{
 "cells": [
  {
   "cell_type": "code",
   "execution_count": 25,
   "metadata": {},
   "outputs": [],
   "source": [
    "from __future__ import annotations\n",
    "import pandas as pd\n",
    "import numpy as np\n",
    "import spacy"
   ]
  },
  {
   "cell_type": "code",
   "execution_count": 26,
   "metadata": {},
   "outputs": [],
   "source": [
    "# load in en_core_web_sm model\n",
    "nlp = spacy.load('../model')\n",
    "\n",
    "# load in cannabis data\n",
    "df: pd.DataFrame = pd.read_csv('../data/cannabis.csv')"
   ]
  },
  {
   "cell_type": "code",
   "execution_count": 27,
   "metadata": {},
   "outputs": [
    {
     "name": "stdout",
     "output_type": "stream",
     "text": [
      "<class 'pandas.core.frame.DataFrame'>\n",
      "RangeIndex: 2351 entries, 0 to 2350\n",
      "Data columns (total 6 columns):\n",
      " #   Column       Non-Null Count  Dtype  \n",
      "---  ------       --------------  -----  \n",
      " 0   Strain       2351 non-null   object \n",
      " 1   Type         2351 non-null   object \n",
      " 2   Rating       2351 non-null   float64\n",
      " 3   Effects      2351 non-null   object \n",
      " 4   Flavor       2305 non-null   object \n",
      " 5   Description  2318 non-null   object \n",
      "dtypes: float64(1), object(5)\n",
      "memory usage: 110.3+ KB\n"
     ]
    }
   ],
   "source": [
    "df.info()"
   ]
  },
  {
   "cell_type": "code",
   "execution_count": 28,
   "metadata": {},
   "outputs": [],
   "source": [
    "def tokenize(s: str) -> list[str]:\n",
    "    return [\n",
    "        token.lemma_ for token in nlp(s)\n",
    "            if not token.is_punct\n",
    "            if not token.is_space\n",
    "            if not token.is_stop\n",
    "    ]\n",
    "\n",
    "def tokenize_col(col: str) -> None:\n",
    "    train[col] = (\n",
    "        df[col]\n",
    "            .astype(str)\n",
    "            .apply(tokenize)\n",
    "    )\n",
    "    return\n",
    "\n",
    "# create a new dataframe to store tokenized fields\n",
    "train = df[['Strain']].copy()\n",
    "    \n",
    "for c in ['Flavor', 'Description', 'Type', 'Effects']:\n",
    "    tokenize_col(c)"
   ]
  },
  {
   "cell_type": "code",
   "execution_count": 29,
   "metadata": {},
   "outputs": [],
   "source": [
    "def tokenize_more(s: str) -> list[str]:\n",
    "    return [\n",
    "        token.lemma_ for token in nlp(s)\n",
    "            if not token.is_punct\n",
    "            if not token.is_space\n",
    "            if not token.is_stop\n",
    "            if token.pos_ in ['ADJ', 'VERB', 'NOUN']\n",
    "    ]\n",
    "\n",
    "# Use alternative tokenization on description\n",
    "# this will only include nouns, adjectives, and verbs\n",
    "train['Description_'] = (\n",
    "    df['Description']\n",
    "        .astype(str)\n",
    "        .apply(tokenize_more)\n",
    ")"
   ]
  },
  {
   "cell_type": "code",
   "execution_count": 30,
   "metadata": {},
   "outputs": [
    {
     "data": {
      "text/plain": [
       "(['american',\n",
       "  'indica',\n",
       "  'dominant',\n",
       "  'strain',\n",
       "  'blend',\n",
       "  'jamaican',\n",
       "  'hawaiian',\n",
       "  'genetic',\n",
       "  'charge',\n",
       "  'meaning',\n",
       "  'indica',\n",
       "  'represent',\n",
       "  'honest',\n",
       "  'toil',\n",
       "  'personal',\n",
       "  'improvement',\n",
       "  'enjoy',\n",
       "  'fruit',\n",
       "  'labor',\n",
       "  'put',\n",
       "  'skunky',\n",
       "  'flavor',\n",
       "  'help',\n",
       "  'pursue',\n",
       "  'happiness',\n",
       "  'balanced',\n",
       "  'uplifting',\n",
       "  'social',\n",
       "  'effect',\n",
       "  'appropriate',\n",
       "  'day',\n",
       "  'evening',\n",
       "  'use'],\n",
       " ['focus', 'Euphoric', 'tingly', 'energetic', 'relaxed'])"
      ]
     },
     "execution_count": 30,
     "metadata": {},
     "output_type": "execute_result"
    }
   ],
   "source": [
    "# example of what the tokenization looks like\n",
    "train['Description_'].iloc[100], train['Effects'].iloc[100]"
   ]
  },
  {
   "cell_type": "code",
   "execution_count": 31,
   "metadata": {},
   "outputs": [
    {
     "data": {
      "text/plain": [
       "['Earthy',\n",
       " 'Sweet',\n",
       " 'Citrus',\n",
       " 'og',\n",
       " 'hybrid',\n",
       " 'strain',\n",
       " 'pack',\n",
       " 'strong',\n",
       " 'punch',\n",
       " 'refer',\n",
       " 'strength',\n",
       " 'high',\n",
       " 'price',\n",
       " 'start',\n",
       " 'show',\n",
       " 'plant',\n",
       " 'og',\n",
       " 'tend',\n",
       " 'produce',\n",
       " 'large',\n",
       " 'dark',\n",
       " 'green',\n",
       " 'bud',\n",
       " 'stem',\n",
       " 'user',\n",
       " 'report',\n",
       " 'strong',\n",
       " 'body',\n",
       " 'effect',\n",
       " 'indica',\n",
       " 'pain',\n",
       " 'relief',\n",
       " 'alert',\n",
       " 'cerebral',\n",
       " 'feel',\n",
       " 'thank',\n",
       " 'sativa',\n",
       " 'creative',\n",
       " 'energetic',\n",
       " 'Tingly',\n",
       " 'Euphoric',\n",
       " 'Relaxed',\n",
       " 'hybrid']"
      ]
     },
     "execution_count": 31,
     "metadata": {},
     "output_type": "execute_result"
    }
   ],
   "source": [
    "train['Lemmas'] = (\n",
    "      train['Flavor'] \n",
    "    # + train['Description']\n",
    "    + train['Description_']\n",
    "    + train['Effects']\n",
    "    + train['Type']\n",
    ")\n",
    "\n",
    "train['Lemmas'].iloc[0]"
   ]
  },
  {
   "cell_type": "code",
   "execution_count": 32,
   "metadata": {},
   "outputs": [],
   "source": [
    "def vectorize(t: list[str]) -> list[float]:\n",
    "    return nlp(\" \".join(t)).vector\n",
    "\n",
    "# turn the lemmas into vector form\n",
    "train['Vectors'] = train['Lemmas'].apply(vectorize)"
   ]
  },
  {
   "cell_type": "code",
   "execution_count": 33,
   "metadata": {},
   "outputs": [],
   "source": [
    "# now turn the vectors into a dataframe matrix\n",
    "col_nums = train['Vectors'][0].shape[0]\n",
    "as_list = list(train['Vectors'].values)\n",
    "\n",
    "# this will let us easily use the vectors in a model\n",
    "X = pd.DataFrame(as_list, columns=range(col_nums))"
   ]
  },
  {
   "cell_type": "code",
   "execution_count": 34,
   "metadata": {},
   "outputs": [
    {
     "data": {
      "text/html": [
       "<div>\n",
       "<style scoped>\n",
       "    .dataframe tbody tr th:only-of-type {\n",
       "        vertical-align: middle;\n",
       "    }\n",
       "\n",
       "    .dataframe tbody tr th {\n",
       "        vertical-align: top;\n",
       "    }\n",
       "\n",
       "    .dataframe thead th {\n",
       "        text-align: right;\n",
       "    }\n",
       "</style>\n",
       "<table border=\"1\" class=\"dataframe\">\n",
       "  <thead>\n",
       "    <tr style=\"text-align: right;\">\n",
       "      <th></th>\n",
       "      <th>0</th>\n",
       "      <th>1</th>\n",
       "      <th>2</th>\n",
       "      <th>3</th>\n",
       "      <th>4</th>\n",
       "      <th>5</th>\n",
       "      <th>6</th>\n",
       "      <th>7</th>\n",
       "      <th>8</th>\n",
       "      <th>9</th>\n",
       "      <th>...</th>\n",
       "      <th>86</th>\n",
       "      <th>87</th>\n",
       "      <th>88</th>\n",
       "      <th>89</th>\n",
       "      <th>90</th>\n",
       "      <th>91</th>\n",
       "      <th>92</th>\n",
       "      <th>93</th>\n",
       "      <th>94</th>\n",
       "      <th>95</th>\n",
       "    </tr>\n",
       "  </thead>\n",
       "  <tbody>\n",
       "    <tr>\n",
       "      <th>0</th>\n",
       "      <td>1.746879</td>\n",
       "      <td>1.356920</td>\n",
       "      <td>0.592955</td>\n",
       "      <td>-0.848038</td>\n",
       "      <td>1.752234</td>\n",
       "      <td>0.171649</td>\n",
       "      <td>-0.973718</td>\n",
       "      <td>0.881931</td>\n",
       "      <td>-1.215223</td>\n",
       "      <td>1.673004</td>\n",
       "      <td>...</td>\n",
       "      <td>0.497011</td>\n",
       "      <td>0.046771</td>\n",
       "      <td>0.989567</td>\n",
       "      <td>-0.623270</td>\n",
       "      <td>0.639326</td>\n",
       "      <td>-0.262327</td>\n",
       "      <td>-1.053344</td>\n",
       "      <td>0.226037</td>\n",
       "      <td>0.259191</td>\n",
       "      <td>0.898924</td>\n",
       "    </tr>\n",
       "    <tr>\n",
       "      <th>1</th>\n",
       "      <td>1.757072</td>\n",
       "      <td>1.648197</td>\n",
       "      <td>0.828961</td>\n",
       "      <td>-0.399773</td>\n",
       "      <td>1.977969</td>\n",
       "      <td>0.143871</td>\n",
       "      <td>-0.307127</td>\n",
       "      <td>0.811944</td>\n",
       "      <td>-1.378438</td>\n",
       "      <td>2.049792</td>\n",
       "      <td>...</td>\n",
       "      <td>0.076390</td>\n",
       "      <td>-0.322173</td>\n",
       "      <td>1.088978</td>\n",
       "      <td>-0.233739</td>\n",
       "      <td>0.206538</td>\n",
       "      <td>0.001452</td>\n",
       "      <td>-0.548018</td>\n",
       "      <td>-0.027551</td>\n",
       "      <td>-0.340776</td>\n",
       "      <td>0.662717</td>\n",
       "    </tr>\n",
       "    <tr>\n",
       "      <th>2</th>\n",
       "      <td>1.972590</td>\n",
       "      <td>0.876835</td>\n",
       "      <td>0.536456</td>\n",
       "      <td>-0.562390</td>\n",
       "      <td>2.514453</td>\n",
       "      <td>-0.119602</td>\n",
       "      <td>-0.691016</td>\n",
       "      <td>0.810648</td>\n",
       "      <td>-1.344577</td>\n",
       "      <td>1.991738</td>\n",
       "      <td>...</td>\n",
       "      <td>0.625878</td>\n",
       "      <td>-0.483538</td>\n",
       "      <td>1.087123</td>\n",
       "      <td>-0.746523</td>\n",
       "      <td>0.189003</td>\n",
       "      <td>0.011752</td>\n",
       "      <td>-0.442292</td>\n",
       "      <td>-0.060571</td>\n",
       "      <td>-0.504641</td>\n",
       "      <td>0.711542</td>\n",
       "    </tr>\n",
       "    <tr>\n",
       "      <th>3</th>\n",
       "      <td>1.993520</td>\n",
       "      <td>1.355428</td>\n",
       "      <td>0.872156</td>\n",
       "      <td>-0.705299</td>\n",
       "      <td>1.981034</td>\n",
       "      <td>0.063621</td>\n",
       "      <td>-0.638667</td>\n",
       "      <td>1.049635</td>\n",
       "      <td>-0.624738</td>\n",
       "      <td>1.661174</td>\n",
       "      <td>...</td>\n",
       "      <td>0.259322</td>\n",
       "      <td>-0.191294</td>\n",
       "      <td>1.035414</td>\n",
       "      <td>-0.365564</td>\n",
       "      <td>0.493251</td>\n",
       "      <td>0.004212</td>\n",
       "      <td>-0.853548</td>\n",
       "      <td>-0.343372</td>\n",
       "      <td>-0.193963</td>\n",
       "      <td>0.553127</td>\n",
       "    </tr>\n",
       "    <tr>\n",
       "      <th>4</th>\n",
       "      <td>1.505685</td>\n",
       "      <td>1.456757</td>\n",
       "      <td>0.430312</td>\n",
       "      <td>-0.605696</td>\n",
       "      <td>1.849197</td>\n",
       "      <td>-0.073539</td>\n",
       "      <td>-0.865339</td>\n",
       "      <td>0.587997</td>\n",
       "      <td>-1.440432</td>\n",
       "      <td>1.651082</td>\n",
       "      <td>...</td>\n",
       "      <td>0.661791</td>\n",
       "      <td>-0.193317</td>\n",
       "      <td>0.943361</td>\n",
       "      <td>-0.268310</td>\n",
       "      <td>0.948093</td>\n",
       "      <td>-0.020193</td>\n",
       "      <td>-0.593853</td>\n",
       "      <td>-0.346339</td>\n",
       "      <td>-0.231206</td>\n",
       "      <td>0.558517</td>\n",
       "    </tr>\n",
       "  </tbody>\n",
       "</table>\n",
       "<p>5 rows × 96 columns</p>\n",
       "</div>"
      ],
      "text/plain": [
       "         0         1         2         3         4         5         6   \\\n",
       "0  1.746879  1.356920  0.592955 -0.848038  1.752234  0.171649 -0.973718   \n",
       "1  1.757072  1.648197  0.828961 -0.399773  1.977969  0.143871 -0.307127   \n",
       "2  1.972590  0.876835  0.536456 -0.562390  2.514453 -0.119602 -0.691016   \n",
       "3  1.993520  1.355428  0.872156 -0.705299  1.981034  0.063621 -0.638667   \n",
       "4  1.505685  1.456757  0.430312 -0.605696  1.849197 -0.073539 -0.865339   \n",
       "\n",
       "         7         8         9   ...        86        87        88        89  \\\n",
       "0  0.881931 -1.215223  1.673004  ...  0.497011  0.046771  0.989567 -0.623270   \n",
       "1  0.811944 -1.378438  2.049792  ...  0.076390 -0.322173  1.088978 -0.233739   \n",
       "2  0.810648 -1.344577  1.991738  ...  0.625878 -0.483538  1.087123 -0.746523   \n",
       "3  1.049635 -0.624738  1.661174  ...  0.259322 -0.191294  1.035414 -0.365564   \n",
       "4  0.587997 -1.440432  1.651082  ...  0.661791 -0.193317  0.943361 -0.268310   \n",
       "\n",
       "         90        91        92        93        94        95  \n",
       "0  0.639326 -0.262327 -1.053344  0.226037  0.259191  0.898924  \n",
       "1  0.206538  0.001452 -0.548018 -0.027551 -0.340776  0.662717  \n",
       "2  0.189003  0.011752 -0.442292 -0.060571 -0.504641  0.711542  \n",
       "3  0.493251  0.004212 -0.853548 -0.343372 -0.193963  0.553127  \n",
       "4  0.948093 -0.020193 -0.593853 -0.346339 -0.231206  0.558517  \n",
       "\n",
       "[5 rows x 96 columns]"
      ]
     },
     "execution_count": 34,
     "metadata": {},
     "output_type": "execute_result"
    }
   ],
   "source": [
    "X.head(5)"
   ]
  },
  {
   "cell_type": "markdown",
   "metadata": {},
   "source": [
    "# Nearest Neighbors Classifier"
   ]
  },
  {
   "cell_type": "code",
   "execution_count": 35,
   "metadata": {},
   "outputs": [
    {
     "data": {
      "text/plain": [
       "KNeighborsClassifier(algorithm='ball_tree', n_neighbors=4, weights='distance')"
      ]
     },
     "execution_count": 35,
     "metadata": {},
     "output_type": "execute_result"
    }
   ],
   "source": [
    "from sklearn.neighbors import KNeighborsClassifier\n",
    "\n",
    "nn = KNeighborsClassifier(n_neighbors=4,\n",
    "                          weights='distance',\n",
    "                          algorithm='ball_tree')\n",
    "\n",
    "nn.fit(X, train['Strain'])"
   ]
  },
  {
   "cell_type": "code",
   "execution_count": 36,
   "metadata": {},
   "outputs": [
    {
     "data": {
      "text/plain": [
       "0.9991492981709911"
      ]
     },
     "execution_count": 36,
     "metadata": {},
     "output_type": "execute_result"
    }
   ],
   "source": [
    "nn.score(X, train['Strain'])"
   ]
  },
  {
   "cell_type": "code",
   "execution_count": 37,
   "metadata": {},
   "outputs": [],
   "source": [
    "def predict(desc: list[str]) -> pd.DataFrame:\n",
    "    if len(desc) == 0:\n",
    "        return 'N/A'\n",
    "    \n",
    "    vector = nlp(\" \".join(desc)).vector.reshape(1, -1)\n",
    "\n",
    "    result = nn.kneighbors(vector, 5)\n",
    "    \n",
    "    return df.iloc[result[1][0]]"
   ]
  },
  {
   "cell_type": "code",
   "execution_count": 50,
   "metadata": {},
   "outputs": [
    {
     "data": {
      "text/html": [
       "<div>\n",
       "<style scoped>\n",
       "    .dataframe tbody tr th:only-of-type {\n",
       "        vertical-align: middle;\n",
       "    }\n",
       "\n",
       "    .dataframe tbody tr th {\n",
       "        vertical-align: top;\n",
       "    }\n",
       "\n",
       "    .dataframe thead th {\n",
       "        text-align: right;\n",
       "    }\n",
       "</style>\n",
       "<table border=\"1\" class=\"dataframe\">\n",
       "  <thead>\n",
       "    <tr style=\"text-align: right;\">\n",
       "      <th></th>\n",
       "      <th>Strain</th>\n",
       "      <th>Type</th>\n",
       "      <th>Rating</th>\n",
       "      <th>Effects</th>\n",
       "      <th>Flavor</th>\n",
       "      <th>Description</th>\n",
       "    </tr>\n",
       "  </thead>\n",
       "  <tbody>\n",
       "    <tr>\n",
       "      <th>1615</th>\n",
       "      <td>Pink-Kush</td>\n",
       "      <td>hybrid</td>\n",
       "      <td>4.5</td>\n",
       "      <td>Relaxed,Happy,Sleepy,Euphoric,Hungry</td>\n",
       "      <td>Sweet,Earthy,Flowery</td>\n",
       "      <td>Pink Kush, as coveted as its OG Kush relative,...</td>\n",
       "    </tr>\n",
       "    <tr>\n",
       "      <th>268</th>\n",
       "      <td>Blucifer</td>\n",
       "      <td>sativa</td>\n",
       "      <td>4.3</td>\n",
       "      <td>Happy,Uplifted,Relaxed,Talkative,Focused</td>\n",
       "      <td>Blueberry,Spicy/Herbal,Berry</td>\n",
       "      <td>Created in 2013 by Terraform Genetics who cros...</td>\n",
       "    </tr>\n",
       "    <tr>\n",
       "      <th>107</th>\n",
       "      <td>Amnesia-Haze</td>\n",
       "      <td>sativa</td>\n",
       "      <td>4.3</td>\n",
       "      <td>Happy,Euphoric,Uplifted,Energetic,Creative</td>\n",
       "      <td>Earthy,Citrus,Lemon</td>\n",
       "      <td>With earthy flavors of lemons and citrus, Amne...</td>\n",
       "    </tr>\n",
       "    <tr>\n",
       "      <th>1666</th>\n",
       "      <td>Purple-Arrow</td>\n",
       "      <td>hybrid</td>\n",
       "      <td>4.2</td>\n",
       "      <td>Happy,Uplifted,Focused,Energetic,Relaxed</td>\n",
       "      <td>Sweet,Citrus,Earthy</td>\n",
       "      <td>When it comes to knocking out pain, no medical...</td>\n",
       "    </tr>\n",
       "    <tr>\n",
       "      <th>1228</th>\n",
       "      <td>La-Nina</td>\n",
       "      <td>sativa</td>\n",
       "      <td>4.7</td>\n",
       "      <td>Uplifted,Creative,Energetic,Talkative,Euphoric</td>\n",
       "      <td>Sweet,Earthy</td>\n",
       "      <td>La Niña, a close relative of El Niño, is a sat...</td>\n",
       "    </tr>\n",
       "  </tbody>\n",
       "</table>\n",
       "</div>"
      ],
      "text/plain": [
       "            Strain    Type  Rating  \\\n",
       "1615     Pink-Kush  hybrid     4.5   \n",
       "268       Blucifer  sativa     4.3   \n",
       "107   Amnesia-Haze  sativa     4.3   \n",
       "1666  Purple-Arrow  hybrid     4.2   \n",
       "1228       La-Nina  sativa     4.7   \n",
       "\n",
       "                                             Effects  \\\n",
       "1615            Relaxed,Happy,Sleepy,Euphoric,Hungry   \n",
       "268         Happy,Uplifted,Relaxed,Talkative,Focused   \n",
       "107       Happy,Euphoric,Uplifted,Energetic,Creative   \n",
       "1666        Happy,Uplifted,Focused,Energetic,Relaxed   \n",
       "1228  Uplifted,Creative,Energetic,Talkative,Euphoric   \n",
       "\n",
       "                            Flavor  \\\n",
       "1615          Sweet,Earthy,Flowery   \n",
       "268   Blueberry,Spicy/Herbal,Berry   \n",
       "107            Earthy,Citrus,Lemon   \n",
       "1666           Sweet,Citrus,Earthy   \n",
       "1228                  Sweet,Earthy   \n",
       "\n",
       "                                            Description  \n",
       "1615  Pink Kush, as coveted as its OG Kush relative,...  \n",
       "268   Created in 2013 by Terraform Genetics who cros...  \n",
       "107   With earthy flavors of lemons and citrus, Amne...  \n",
       "1666  When it comes to knocking out pain, no medical...  \n",
       "1228  La Niña, a close relative of El Niño, is a sat...  "
      ]
     },
     "execution_count": 50,
     "metadata": {},
     "output_type": "execute_result"
    }
   ],
   "source": [
    "example = tokenize(\n",
    "    \"\"\"I want something that'll make me sleepy and calm my anxiety. I like citrus flavors.\"\"\"\n",
    ")\n",
    "\n",
    "# prints the top five nearest neighbors of the above example in vector form...\n",
    "predict(example)"
   ]
  },
  {
   "cell_type": "markdown",
   "metadata": {},
   "source": [
    "# Let's try a different approach..."
   ]
  },
  {
   "cell_type": "code",
   "execution_count": 39,
   "metadata": {},
   "outputs": [],
   "source": [
    "# reset\n",
    "df = pd.read_csv('../data/cannabis.csv')\n",
    "\n",
    "df['Flavor'] = df['Flavor'].replace('None', np.nan)\n",
    "df['Effects'] = df['Effects'].replace('None', np.nan)\n",
    "\n",
    "df = df.dropna(subset=['Flavor', 'Effects'])"
   ]
  },
  {
   "cell_type": "code",
   "execution_count": 40,
   "metadata": {},
   "outputs": [],
   "source": [
    "effectss = df['Effects'].astype(str).apply(lambda s: s.split(','))\n",
    "effects = [\n",
    "    effect \n",
    "    for effects in effectss\n",
    "    for effect in effects\n",
    "]\n",
    "\n",
    "effects = set(effects)\n",
    "\n",
    "flavorss = df['Flavor'].astype(str).apply(lambda s: s.split(','))\n",
    "flavors = [\n",
    "    flavor\n",
    "    for flavors in flavorss\n",
    "    for flavor in flavors\n",
    "]\n",
    "\n",
    "flavors = set(flavors)\n",
    "\n",
    "types = df['Type'].values\n",
    "types = set(types)"
   ]
  },
  {
   "cell_type": "code",
   "execution_count": 41,
   "metadata": {},
   "outputs": [
    {
     "data": {
      "text/html": [
       "<div>\n",
       "<style scoped>\n",
       "    .dataframe tbody tr th:only-of-type {\n",
       "        vertical-align: middle;\n",
       "    }\n",
       "\n",
       "    .dataframe tbody tr th {\n",
       "        vertical-align: top;\n",
       "    }\n",
       "\n",
       "    .dataframe thead th {\n",
       "        text-align: right;\n",
       "    }\n",
       "</style>\n",
       "<table border=\"1\" class=\"dataframe\">\n",
       "  <thead>\n",
       "    <tr style=\"text-align: right;\">\n",
       "      <th></th>\n",
       "      <th>Nutty</th>\n",
       "      <th>Apple</th>\n",
       "      <th>Minty</th>\n",
       "      <th>Relaxed</th>\n",
       "      <th>Menthol</th>\n",
       "      <th>Honey</th>\n",
       "      <th>Orange</th>\n",
       "      <th>Blueberry</th>\n",
       "      <th>Aroused</th>\n",
       "      <th>indica</th>\n",
       "      <th>...</th>\n",
       "      <th>Sage</th>\n",
       "      <th>Happy</th>\n",
       "      <th>Berry</th>\n",
       "      <th>Tree</th>\n",
       "      <th>Hungry</th>\n",
       "      <th>Violet</th>\n",
       "      <th>Tropical</th>\n",
       "      <th>sativa</th>\n",
       "      <th>Citrus</th>\n",
       "      <th>Strawberry</th>\n",
       "    </tr>\n",
       "  </thead>\n",
       "  <tbody>\n",
       "  </tbody>\n",
       "</table>\n",
       "<p>0 rows × 67 columns</p>\n",
       "</div>"
      ],
      "text/plain": [
       "Empty DataFrame\n",
       "Columns: [Nutty, Apple, Minty, Relaxed, Menthol, Honey, Orange, Blueberry, Aroused, indica, Lemon, Grape, Lavender, Coffee, Focused, Pine, Talkative, Mango, Earthy, Tobacco, Creative, Spicy/Herbal, Cheese, Chemical, Energetic, Mint, Blue, Giggly, Dry, Pungent, Sleepy, Uplifted, Chestnut, Rose, Woody, Apricot, Ammonia, Pepper, Vanilla, Euphoric, Pineapple, Skunk, Diesel, Mouth, Peach, Lime, hybrid, Tea, Plum, Tar, Butter, Fruit, Tingly, Sweet, Flowery, Grapefruit, Pear, Sage, Happy, Berry, Tree, Hungry, Violet, Tropical, sativa, Citrus, Strawberry]\n",
       "Index: []\n",
       "\n",
       "[0 rows x 67 columns]"
      ]
     },
     "execution_count": 41,
     "metadata": {},
     "output_type": "execute_result"
    }
   ],
   "source": [
    "# One hot encode...\n",
    "\n",
    "cols = (\n",
    "    flavors\n",
    "        .union(effects)\n",
    "        .union(types)\n",
    ")\n",
    "\n",
    "pd.DataFrame(columns=cols)"
   ]
  },
  {
   "cell_type": "code",
   "execution_count": 42,
   "metadata": {},
   "outputs": [
    {
     "data": {
      "text/plain": [
       "{'Ammonia',\n",
       " 'Apple',\n",
       " 'Apricot',\n",
       " 'Berry',\n",
       " 'Blue',\n",
       " 'Blueberry',\n",
       " 'Butter',\n",
       " 'Cheese',\n",
       " 'Chemical',\n",
       " 'Chestnut',\n",
       " 'Citrus',\n",
       " 'Coffee',\n",
       " 'Diesel',\n",
       " 'Earthy',\n",
       " 'Flowery',\n",
       " 'Fruit',\n",
       " 'Grape',\n",
       " 'Grapefruit',\n",
       " 'Honey',\n",
       " 'Lavender',\n",
       " 'Lemon',\n",
       " 'Lime',\n",
       " 'Mango',\n",
       " 'Menthol',\n",
       " 'Mint',\n",
       " 'Minty',\n",
       " 'Nutty',\n",
       " 'Orange',\n",
       " 'Peach',\n",
       " 'Pear',\n",
       " 'Pepper',\n",
       " 'Pine',\n",
       " 'Pineapple',\n",
       " 'Plum',\n",
       " 'Pungent',\n",
       " 'Rose',\n",
       " 'Sage',\n",
       " 'Skunk',\n",
       " 'Spicy/Herbal',\n",
       " 'Strawberry',\n",
       " 'Sweet',\n",
       " 'Tar',\n",
       " 'Tea',\n",
       " 'Tobacco',\n",
       " 'Tree',\n",
       " 'Tropical',\n",
       " 'Vanilla',\n",
       " 'Violet',\n",
       " 'Woody'}"
      ]
     },
     "execution_count": 42,
     "metadata": {},
     "output_type": "execute_result"
    }
   ],
   "source": [
    "flavors"
   ]
  },
  {
   "cell_type": "code",
   "execution_count": 43,
   "metadata": {},
   "outputs": [],
   "source": [
    "X.to_csv('X.csv', index=False, float_format='%.4f')"
   ]
  },
  {
   "cell_type": "code",
   "execution_count": 44,
   "metadata": {},
   "outputs": [
    {
     "data": {
      "text/plain": [
       "15"
      ]
     },
     "execution_count": 44,
     "metadata": {},
     "output_type": "execute_result"
    }
   ],
   "source": [
    "len(effects)"
   ]
  },
  {
   "cell_type": "code",
   "execution_count": 45,
   "metadata": {},
   "outputs": [
    {
     "data": {
      "text/plain": [
       "49"
      ]
     },
     "execution_count": 45,
     "metadata": {},
     "output_type": "execute_result"
    }
   ],
   "source": [
    "len(flavors)"
   ]
  },
  {
   "cell_type": "code",
   "execution_count": null,
   "metadata": {},
   "outputs": [],
   "source": []
  }
 ],
 "metadata": {
  "kernelspec": {
   "display_name": "Python 3",
   "language": "python",
   "name": "python3"
  },
  "language_info": {
   "codemirror_mode": {
    "name": "ipython",
    "version": 3
   },
   "file_extension": ".py",
   "mimetype": "text/x-python",
   "name": "python",
   "nbconvert_exporter": "python",
   "pygments_lexer": "ipython3",
   "version": "3.8.6"
  }
 },
 "nbformat": 4,
 "nbformat_minor": 4
}
