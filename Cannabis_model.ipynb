{
  "nbformat": 4,
  "nbformat_minor": 0,
  "metadata": {
    "colab": {
      "name": "Cannabis.ipynb",
      "provenance": [],
      "toc_visible": true
    },
    "kernelspec": {
      "name": "python3",
      "display_name": "Python 3"
    }
  },
  "cells": [
    {
      "cell_type": "markdown",
      "metadata": {
        "id": "bSmuDAWxp4U9"
      },
      "source": [
        "# Exploratory Data Analysis"
      ]
    },
    {
      "cell_type": "markdown",
      "metadata": {
        "id": "F2kYkYRUqgKU"
      },
      "source": [
        "## Loading Imports and Data"
      ]
    },
    {
      "cell_type": "code",
      "metadata": {
        "id": "9GiUJe4lVLF2",
        "outputId": "2dd076de-7736-4e39-fa1e-659f424223f9",
        "colab": {
          "base_uri": "https://localhost:8080/"
        }
      },
      "source": [
        "!python -m spacy download en_core_web_lg\n",
        "!pip install squarify"
      ],
      "execution_count": 1,
      "outputs": [
        {
          "output_type": "stream",
          "text": [
            "Collecting en_core_web_lg==2.2.5\n",
            "\u001b[?25l  Downloading https://github.com/explosion/spacy-models/releases/download/en_core_web_lg-2.2.5/en_core_web_lg-2.2.5.tar.gz (827.9MB)\n",
            "\u001b[K     |████████████████████████████████| 827.9MB 1.2MB/s \n",
            "\u001b[?25hRequirement already satisfied: spacy>=2.2.2 in /usr/local/lib/python3.6/dist-packages (from en_core_web_lg==2.2.5) (2.2.4)\n",
            "Requirement already satisfied: blis<0.5.0,>=0.4.0 in /usr/local/lib/python3.6/dist-packages (from spacy>=2.2.2->en_core_web_lg==2.2.5) (0.4.1)\n",
            "Requirement already satisfied: murmurhash<1.1.0,>=0.28.0 in /usr/local/lib/python3.6/dist-packages (from spacy>=2.2.2->en_core_web_lg==2.2.5) (1.0.3)\n",
            "Requirement already satisfied: catalogue<1.1.0,>=0.0.7 in /usr/local/lib/python3.6/dist-packages (from spacy>=2.2.2->en_core_web_lg==2.2.5) (1.0.0)\n",
            "Requirement already satisfied: preshed<3.1.0,>=3.0.2 in /usr/local/lib/python3.6/dist-packages (from spacy>=2.2.2->en_core_web_lg==2.2.5) (3.0.2)\n",
            "Requirement already satisfied: plac<1.2.0,>=0.9.6 in /usr/local/lib/python3.6/dist-packages (from spacy>=2.2.2->en_core_web_lg==2.2.5) (1.1.3)\n",
            "Requirement already satisfied: requests<3.0.0,>=2.13.0 in /usr/local/lib/python3.6/dist-packages (from spacy>=2.2.2->en_core_web_lg==2.2.5) (2.23.0)\n",
            "Requirement already satisfied: cymem<2.1.0,>=2.0.2 in /usr/local/lib/python3.6/dist-packages (from spacy>=2.2.2->en_core_web_lg==2.2.5) (2.0.4)\n",
            "Requirement already satisfied: tqdm<5.0.0,>=4.38.0 in /usr/local/lib/python3.6/dist-packages (from spacy>=2.2.2->en_core_web_lg==2.2.5) (4.41.1)\n",
            "Requirement already satisfied: wasabi<1.1.0,>=0.4.0 in /usr/local/lib/python3.6/dist-packages (from spacy>=2.2.2->en_core_web_lg==2.2.5) (0.8.0)\n",
            "Requirement already satisfied: thinc==7.4.0 in /usr/local/lib/python3.6/dist-packages (from spacy>=2.2.2->en_core_web_lg==2.2.5) (7.4.0)\n",
            "Requirement already satisfied: srsly<1.1.0,>=1.0.2 in /usr/local/lib/python3.6/dist-packages (from spacy>=2.2.2->en_core_web_lg==2.2.5) (1.0.2)\n",
            "Requirement already satisfied: setuptools in /usr/local/lib/python3.6/dist-packages (from spacy>=2.2.2->en_core_web_lg==2.2.5) (50.3.2)\n",
            "Requirement already satisfied: numpy>=1.15.0 in /usr/local/lib/python3.6/dist-packages (from spacy>=2.2.2->en_core_web_lg==2.2.5) (1.18.5)\n",
            "Requirement already satisfied: importlib-metadata>=0.20; python_version < \"3.8\" in /usr/local/lib/python3.6/dist-packages (from catalogue<1.1.0,>=0.0.7->spacy>=2.2.2->en_core_web_lg==2.2.5) (2.0.0)\n",
            "Requirement already satisfied: urllib3!=1.25.0,!=1.25.1,<1.26,>=1.21.1 in /usr/local/lib/python3.6/dist-packages (from requests<3.0.0,>=2.13.0->spacy>=2.2.2->en_core_web_lg==2.2.5) (1.24.3)\n",
            "Requirement already satisfied: chardet<4,>=3.0.2 in /usr/local/lib/python3.6/dist-packages (from requests<3.0.0,>=2.13.0->spacy>=2.2.2->en_core_web_lg==2.2.5) (3.0.4)\n",
            "Requirement already satisfied: certifi>=2017.4.17 in /usr/local/lib/python3.6/dist-packages (from requests<3.0.0,>=2.13.0->spacy>=2.2.2->en_core_web_lg==2.2.5) (2020.6.20)\n",
            "Requirement already satisfied: idna<3,>=2.5 in /usr/local/lib/python3.6/dist-packages (from requests<3.0.0,>=2.13.0->spacy>=2.2.2->en_core_web_lg==2.2.5) (2.10)\n",
            "Requirement already satisfied: zipp>=0.5 in /usr/local/lib/python3.6/dist-packages (from importlib-metadata>=0.20; python_version < \"3.8\"->catalogue<1.1.0,>=0.0.7->spacy>=2.2.2->en_core_web_lg==2.2.5) (3.4.0)\n",
            "Building wheels for collected packages: en-core-web-lg\n",
            "  Building wheel for en-core-web-lg (setup.py) ... \u001b[?25l\u001b[?25hdone\n",
            "  Created wheel for en-core-web-lg: filename=en_core_web_lg-2.2.5-cp36-none-any.whl size=829180944 sha256=318c91c1e571b2598547218b4a457e4b3e0ffeaf4e2552a8d8a84de36a4d6e47\n",
            "  Stored in directory: /tmp/pip-ephem-wheel-cache-vslz4333/wheels/2a/c1/a6/fc7a877b1efca9bc6a089d6f506f16d3868408f9ff89f8dbfc\n",
            "Successfully built en-core-web-lg\n",
            "Installing collected packages: en-core-web-lg\n",
            "Successfully installed en-core-web-lg-2.2.5\n",
            "\u001b[38;5;2m✔ Download and installation successful\u001b[0m\n",
            "You can now load the model via spacy.load('en_core_web_lg')\n",
            "Collecting squarify\n",
            "  Using cached https://files.pythonhosted.org/packages/0b/2b/2e77c35326efec19819cd1d729540d4d235e6c2a3f37658288a363a67da5/squarify-0.4.3-py3-none-any.whl\n",
            "Installing collected packages: squarify\n",
            "Successfully installed squarify-0.4.3\n"
          ],
          "name": "stdout"
        }
      ]
    },
    {
      "cell_type": "code",
      "metadata": {
        "id": "H67WmAO7cPJM"
      },
      "source": [
        "# Base\n",
        "import pandas as pd\n",
        "import numpy as np\n",
        "from collections import Counter\n",
        "\n",
        "# Plotting\n",
        "import squarify\n",
        "import matplotlib.pyplot as plt\n",
        "import seaborn as sns\n",
        "\n",
        "# NLP Libraries\n",
        "import spacy\n",
        "from spacy.tokenizer import Tokenizer\n",
        "from sklearn.neighbors import NearestNeighbors\n",
        "from sklearn.feature_extraction.text import TfidfVectorizer\n",
        "\n",
        "nlp = spacy.load('en_core_web_lg')"
      ],
      "execution_count": 1,
      "outputs": []
    },
    {
      "cell_type": "code",
      "metadata": {
        "id": "w_rtSdEaiHA2"
      },
      "source": [
        "df = pd.read_csv(\"cannabis.csv\")"
      ],
      "execution_count": 5,
      "outputs": []
    },
    {
      "cell_type": "code",
      "metadata": {
        "id": "d-2W2860kQJ1",
        "outputId": "7c8405fe-fb8b-47d5-dd1e-713045719028",
        "colab": {
          "base_uri": "https://localhost:8080/",
          "height": 436
        }
      },
      "source": [
        "print(df.shape)\n",
        "df"
      ],
      "execution_count": 6,
      "outputs": [
        {
          "output_type": "stream",
          "text": [
            "(2351, 6)\n"
          ],
          "name": "stdout"
        },
        {
          "output_type": "execute_result",
          "data": {
            "text/html": [
              "<div>\n",
              "<style scoped>\n",
              "    .dataframe tbody tr th:only-of-type {\n",
              "        vertical-align: middle;\n",
              "    }\n",
              "\n",
              "    .dataframe tbody tr th {\n",
              "        vertical-align: top;\n",
              "    }\n",
              "\n",
              "    .dataframe thead th {\n",
              "        text-align: right;\n",
              "    }\n",
              "</style>\n",
              "<table border=\"1\" class=\"dataframe\">\n",
              "  <thead>\n",
              "    <tr style=\"text-align: right;\">\n",
              "      <th></th>\n",
              "      <th>Strain</th>\n",
              "      <th>Type</th>\n",
              "      <th>Rating</th>\n",
              "      <th>Effects</th>\n",
              "      <th>Flavor</th>\n",
              "      <th>Description</th>\n",
              "    </tr>\n",
              "  </thead>\n",
              "  <tbody>\n",
              "    <tr>\n",
              "      <th>0</th>\n",
              "      <td>100-Og</td>\n",
              "      <td>hybrid</td>\n",
              "      <td>4.0</td>\n",
              "      <td>Creative,Energetic,Tingly,Euphoric,Relaxed</td>\n",
              "      <td>Earthy,Sweet,Citrus</td>\n",
              "      <td>$100 OG is a 50/50 hybrid strain that packs a ...</td>\n",
              "    </tr>\n",
              "    <tr>\n",
              "      <th>1</th>\n",
              "      <td>98-White-Widow</td>\n",
              "      <td>hybrid</td>\n",
              "      <td>4.7</td>\n",
              "      <td>Relaxed,Aroused,Creative,Happy,Energetic</td>\n",
              "      <td>Flowery,Violet,Diesel</td>\n",
              "      <td>The ‘98 Aloha White Widow is an especially pot...</td>\n",
              "    </tr>\n",
              "    <tr>\n",
              "      <th>2</th>\n",
              "      <td>1024</td>\n",
              "      <td>sativa</td>\n",
              "      <td>4.4</td>\n",
              "      <td>Uplifted,Happy,Relaxed,Energetic,Creative</td>\n",
              "      <td>Spicy/Herbal,Sage,Woody</td>\n",
              "      <td>1024 is a sativa-dominant hybrid bred in Spain...</td>\n",
              "    </tr>\n",
              "    <tr>\n",
              "      <th>3</th>\n",
              "      <td>13-Dawgs</td>\n",
              "      <td>hybrid</td>\n",
              "      <td>4.2</td>\n",
              "      <td>Tingly,Creative,Hungry,Relaxed,Uplifted</td>\n",
              "      <td>Apricot,Citrus,Grapefruit</td>\n",
              "      <td>13 Dawgs is a hybrid of G13 and Chemdawg genet...</td>\n",
              "    </tr>\n",
              "    <tr>\n",
              "      <th>4</th>\n",
              "      <td>24K-Gold</td>\n",
              "      <td>hybrid</td>\n",
              "      <td>4.6</td>\n",
              "      <td>Happy,Relaxed,Euphoric,Uplifted,Talkative</td>\n",
              "      <td>Citrus,Earthy,Orange</td>\n",
              "      <td>Also known as Kosher Tangie, 24k Gold is a 60%...</td>\n",
              "    </tr>\n",
              "    <tr>\n",
              "      <th>...</th>\n",
              "      <td>...</td>\n",
              "      <td>...</td>\n",
              "      <td>...</td>\n",
              "      <td>...</td>\n",
              "      <td>...</td>\n",
              "      <td>...</td>\n",
              "    </tr>\n",
              "    <tr>\n",
              "      <th>2346</th>\n",
              "      <td>Zeus-Og</td>\n",
              "      <td>hybrid</td>\n",
              "      <td>4.7</td>\n",
              "      <td>Happy,Uplifted,Relaxed,Euphoric,Energetic</td>\n",
              "      <td>Earthy,Woody,Pine</td>\n",
              "      <td>Zeus OG is a hybrid cross between Pineapple OG...</td>\n",
              "    </tr>\n",
              "    <tr>\n",
              "      <th>2347</th>\n",
              "      <td>Zkittlez</td>\n",
              "      <td>indica</td>\n",
              "      <td>4.6</td>\n",
              "      <td>Relaxed,Happy,Euphoric,Uplifted,Sleepy</td>\n",
              "      <td>Sweet,Berry,Grape</td>\n",
              "      <td>Zkittlez is an indica-dominant mix of Grape Ap...</td>\n",
              "    </tr>\n",
              "    <tr>\n",
              "      <th>2348</th>\n",
              "      <td>Zombie-Kush</td>\n",
              "      <td>indica</td>\n",
              "      <td>5.0</td>\n",
              "      <td>Relaxed,Sleepy,Talkative,Euphoric,Happy</td>\n",
              "      <td>Earthy,Sweet,Spicy/Herbal</td>\n",
              "      <td>Zombie Kush by Ripper Seeds comes from two dif...</td>\n",
              "    </tr>\n",
              "    <tr>\n",
              "      <th>2349</th>\n",
              "      <td>Zombie-Og</td>\n",
              "      <td>indica</td>\n",
              "      <td>4.4</td>\n",
              "      <td>Relaxed,Sleepy,Euphoric,Happy,Hungry</td>\n",
              "      <td>Sweet,Earthy,Pungent</td>\n",
              "      <td>If you’re looking to transform into a flesh-ea...</td>\n",
              "    </tr>\n",
              "    <tr>\n",
              "      <th>2350</th>\n",
              "      <td>Zoom-Pie</td>\n",
              "      <td>indica</td>\n",
              "      <td>4.6</td>\n",
              "      <td>Hungry,Relaxed,Uplifted,Happy,Sleepy</td>\n",
              "      <td>Berry,Earthy,Pungent</td>\n",
              "      <td>Zoom Pie (also known as Zombie Pie) is a heavy...</td>\n",
              "    </tr>\n",
              "  </tbody>\n",
              "</table>\n",
              "<p>2351 rows × 6 columns</p>\n",
              "</div>"
            ],
            "text/plain": [
              "              Strain  ...                                        Description\n",
              "0             100-Og  ...  $100 OG is a 50/50 hybrid strain that packs a ...\n",
              "1     98-White-Widow  ...  The ‘98 Aloha White Widow is an especially pot...\n",
              "2               1024  ...  1024 is a sativa-dominant hybrid bred in Spain...\n",
              "3           13-Dawgs  ...  13 Dawgs is a hybrid of G13 and Chemdawg genet...\n",
              "4           24K-Gold  ...  Also known as Kosher Tangie, 24k Gold is a 60%...\n",
              "...              ...  ...                                                ...\n",
              "2346         Zeus-Og  ...  Zeus OG is a hybrid cross between Pineapple OG...\n",
              "2347        Zkittlez  ...  Zkittlez is an indica-dominant mix of Grape Ap...\n",
              "2348     Zombie-Kush  ...  Zombie Kush by Ripper Seeds comes from two dif...\n",
              "2349       Zombie-Og  ...  If you’re looking to transform into a flesh-ea...\n",
              "2350        Zoom-Pie  ...  Zoom Pie (also known as Zombie Pie) is a heavy...\n",
              "\n",
              "[2351 rows x 6 columns]"
            ]
          },
          "metadata": {
            "tags": []
          },
          "execution_count": 6
        }
      ]
    },
    {
      "cell_type": "code",
      "metadata": {
        "id": "N_wLajYTi2m4",
        "outputId": "8861d694-1f26-459f-ad18-28c22913ee4f",
        "colab": {
          "base_uri": "https://localhost:8080/"
        }
      },
      "source": [
        "df.info()"
      ],
      "execution_count": 7,
      "outputs": [
        {
          "output_type": "stream",
          "text": [
            "<class 'pandas.core.frame.DataFrame'>\n",
            "RangeIndex: 2351 entries, 0 to 2350\n",
            "Data columns (total 6 columns):\n",
            " #   Column       Non-Null Count  Dtype  \n",
            "---  ------       --------------  -----  \n",
            " 0   Strain       2351 non-null   object \n",
            " 1   Type         2351 non-null   object \n",
            " 2   Rating       2351 non-null   float64\n",
            " 3   Effects      2351 non-null   object \n",
            " 4   Flavor       2305 non-null   object \n",
            " 5   Description  2318 non-null   object \n",
            "dtypes: float64(1), object(5)\n",
            "memory usage: 110.3+ KB\n"
          ],
          "name": "stdout"
        }
      ]
    },
    {
      "cell_type": "markdown",
      "metadata": {
        "id": "5UIWARM7q7fE"
      },
      "source": [
        "## Data Cleaning/Wrangling"
      ]
    },
    {
      "cell_type": "code",
      "metadata": {
        "id": "nQJ-_whHkLCP",
        "outputId": "dc769b89-3a79-41ed-a1fc-6c4f6cf42094",
        "colab": {
          "base_uri": "https://localhost:8080/"
        }
      },
      "source": [
        "df[df['Effects']=='None'].value_counts()"
      ],
      "execution_count": 8,
      "outputs": [
        {
          "output_type": "execute_result",
          "data": {
            "text/plain": [
              "Strain                Type    Rating  Effects  Flavor  Description                                                                                                                                                                                                                                                                                                                                                                                                                                                                                                                                                                                                                                                                                     \n",
              "White-Ryder           hybrid  0.0     None     None    White Ryder is Riot Seeds’ attempt to create a ruderalis version of White Widow by crossing Buddha Seeds’ White Dwarf against Lowryder. By blending two stout, autoflowering plants, Riot Seeds created a potent indica-dominant hybrid that finishes in under 80 days and can easily be hidden from view. Enjoy this flower for anti-anxiety and sleep-inducing effects.                                                                                                                                                                                                                                                                                                                           1\n",
              "Erdpurt               indica  0.0     None     None    ErdPurt is another indica-dominant strain from Ace Seeds with more than just a weird name. It is a cross between Erdbeer and Purpuera Ticinensis, two sativa-leaning strains hailing from Switzerland. This strain offers strong physical relaxation while stimulating creativity. The terpene profile is loud with hashy spice and notes of strawberry, blackberry, and coffee. ErdPurt’s unique genetics have their own unique history. Erdbeer has existed in clone form since the mid-90s while Purpuera Ticinensis was developed on Canton Ticino over eight years at roughly 1300 meters above sea level. The history of this strain is almost as robust as its heady, long-lasting high.     1\n",
              "Chocoholic            hybrid  0.0     None     None    Chocoholic by Mighty Irish Seeds is a flavorful hybrid with rich colors. This strain is a cross of Chocolope SkunkBerry and DaluxBerry, and carries an earthy, sweet aroma that stinks of a Dutch coffee shop. The effects creep up on the body, weighing the consumer down with continued consumption. Chocoholic develops into a medium-sized plant with an average yield and above-average potency.                                                                                                                                                                                                                                                                                              1\n",
              "Chocolate-Meringue    indica  0.0     None     None    Chocolate Meringue is another sweet offering by THClones. Created by crossing Lemon Tree with Chocolate Kush, Chocolate Meringue imbues consumers with a talkative, euphoric buzz known to elevate the mood and reduce stress. This blissful strain’s terpene profile is thick with honey, pine, cacao, and Meyer Lemon, making it especially sweet and zestful on the taste buds. This bulky, stress-melting indica is a great complement to social events and dinner plans.                                                                                                                                                                                                                       1\n",
              "Chocolate-Tonic       hybrid  0.0     None     None    Chocolate Tonic by Purple Caper Seeds is a 1:1 CBD/THC strain that has helped many medical cannabis patients throughout the West Coast. Created by crossing Chocolate Kush and Cannatonic, Chocolate Tonic harnesses the best parts of both strains and offers soothing relief for inflammation, anxiety, and nausea alongside an enjoyable buzz. Chocolate Tonic has a distinct pine and cocoa aroma while being a bit more herbaceous than sweet on the palate.                                                                                                                                                                                                                                   1\n",
              "                                                                                                                                                                                                                                                                                                                                                                                                                                                                                                                                                                                                                                                                                                                                                          ..\n",
              "Pestilence            indica  0.0     None     None    Pestilence, named for one of the Four Horseman of the Apocalypse, is a rare indica-dominant strain with strong OG undertones. Coffee and caramel fill the air when this strain is combusted, but a touch of pungent earth lingers on the exhale to round out this Abusive OG and West Coast Dawg cross. This strain delivers strong appetite stimulation and traditional semi-sedative OG effects, making it an ideal ‘end of the day’ variety that can help treat eating disorders, stress, and general restlessness.                                                                                                                                                                              1\n",
              "Pia-Collision         sativa  0.0     None     None    Not much is known about MTG Seed’s Piña Collision other than its genetic background of Jamaican Pineapple and Blue Nebula. This sativa-dominant strain expresses a sweet, citrus-forward scent that is a tart mixture of orange and pineapple. Piña Collision has an average flowering time of 9-10 weeks and generates a solid yield for attentive growers. Utilize Piña Collision to stimulate the body while elevating mood.                                                                                                                                                                                                                                                                     1\n",
              "Pineapple-Calyx       hybrid  0.0     None     None    Pineapple Calyx from Calyx Garden is a hybrid cross of OG and Cookies genetics, specifically Pineapple OG and Pineapple Cookies, a Calyx Garden original. Naturally this strain is tropical on the nose with underlying notes of sour citrus and earth. It reaches almost 2% in terpene testing, over half of which is myrcene, a terpene known for its mellowing effects and herbaceous aroma. Enjoy Pineapple Calyx to help nullify stress and combat depression. This strain’s euphoric buzz and overall mood elevation make it a solid choice for social situations and long days of activity.                                                                                                  1\n",
              "Proper-Pho-Shatter-H  hybrid  0.0     None     None    None                                                                                                                                                                                                                                                                                                                                                                                                                                                                                                                                                                                                                                                                                                1\n",
              "3-Bears-Og            indica  0.0     None     None    3 Bears OG by Mephisto Genetics is an autoflowering cross of Bear OG, Karma’s OG Cut, and Triangle Kush. This indica-dominant strain generates pungent, flavorful buds in a smaller, more manageable plant size. Mephisto Genetics describes 3 Bears OG as a cornerstone to their artisanal collection, blending the best attributes of the fabled OG Kush with a compact, controllable growth structure. The 3 Bears OG has an approximate 70-day growth cycle and offers effects that stimulate the appetite while leading the body toward sleep.                                                                                                                                                 1\n",
              "Length: 77, dtype: int64"
            ]
          },
          "metadata": {
            "tags": []
          },
          "execution_count": 8
        }
      ]
    },
    {
      "cell_type": "code",
      "metadata": {
        "id": "Fk9u_9xYmFtV",
        "outputId": "6bf3f1f5-143b-4f40-a4cb-cc157dfe4638",
        "colab": {
          "base_uri": "https://localhost:8080/"
        }
      },
      "source": [
        "df['Description'].isnull().value_counts()"
      ],
      "execution_count": 9,
      "outputs": [
        {
          "output_type": "execute_result",
          "data": {
            "text/plain": [
              "False    2318\n",
              "True       33\n",
              "Name: Description, dtype: int64"
            ]
          },
          "metadata": {
            "tags": []
          },
          "execution_count": 9
        }
      ]
    },
    {
      "cell_type": "code",
      "metadata": {
        "id": "NPOIqAFJn1d7",
        "outputId": "cf106a69-7b4c-4013-ac33-89032fe2cb9c",
        "colab": {
          "base_uri": "https://localhost:8080/",
          "height": 1000
        }
      },
      "source": [
        "df[df['Description'].isnull()]"
      ],
      "execution_count": 10,
      "outputs": [
        {
          "output_type": "execute_result",
          "data": {
            "text/html": [
              "<div>\n",
              "<style scoped>\n",
              "    .dataframe tbody tr th:only-of-type {\n",
              "        vertical-align: middle;\n",
              "    }\n",
              "\n",
              "    .dataframe tbody tr th {\n",
              "        vertical-align: top;\n",
              "    }\n",
              "\n",
              "    .dataframe thead th {\n",
              "        text-align: right;\n",
              "    }\n",
              "</style>\n",
              "<table border=\"1\" class=\"dataframe\">\n",
              "  <thead>\n",
              "    <tr style=\"text-align: right;\">\n",
              "      <th></th>\n",
              "      <th>Strain</th>\n",
              "      <th>Type</th>\n",
              "      <th>Rating</th>\n",
              "      <th>Effects</th>\n",
              "      <th>Flavor</th>\n",
              "      <th>Description</th>\n",
              "    </tr>\n",
              "  </thead>\n",
              "  <tbody>\n",
              "    <tr>\n",
              "      <th>163</th>\n",
              "      <td>Banana-Candy</td>\n",
              "      <td>indica</td>\n",
              "      <td>4.2</td>\n",
              "      <td>Relaxed,Euphoric,Uplifted,Creative,Happy</td>\n",
              "      <td>Tree,Fruit,Earthy,Sweet</td>\n",
              "      <td>NaN</td>\n",
              "    </tr>\n",
              "    <tr>\n",
              "      <th>368</th>\n",
              "      <td>Boysenberry</td>\n",
              "      <td>hybrid</td>\n",
              "      <td>3.6</td>\n",
              "      <td>Giggly,Relaxed,Talkative,Energetic,Euphoric</td>\n",
              "      <td>Berry,Sweet,Earthy</td>\n",
              "      <td>NaN</td>\n",
              "    </tr>\n",
              "    <tr>\n",
              "      <th>594</th>\n",
              "      <td>Crater-Lake</td>\n",
              "      <td>hybrid</td>\n",
              "      <td>4.6</td>\n",
              "      <td>Happy,Uplifted,Talkative,Relaxed,Creative</td>\n",
              "      <td>Citrus,Pine,Pungent</td>\n",
              "      <td>NaN</td>\n",
              "    </tr>\n",
              "    <tr>\n",
              "      <th>679</th>\n",
              "      <td>Domino</td>\n",
              "      <td>indica</td>\n",
              "      <td>4.0</td>\n",
              "      <td>Sleepy,Happy,Tingly,Uplifted,Euphoric</td>\n",
              "      <td>NaN</td>\n",
              "      <td>NaN</td>\n",
              "    </tr>\n",
              "    <tr>\n",
              "      <th>736</th>\n",
              "      <td>Earthquake</td>\n",
              "      <td>hybrid</td>\n",
              "      <td>4.5</td>\n",
              "      <td>Creative,Euphoric,Uplifted,Happy,Energetic</td>\n",
              "      <td>Woody,Pine,Earthy</td>\n",
              "      <td>NaN</td>\n",
              "    </tr>\n",
              "    <tr>\n",
              "      <th>817</th>\n",
              "      <td>Frosty</td>\n",
              "      <td>indica</td>\n",
              "      <td>4.4</td>\n",
              "      <td>Sleepy,Relaxed,Creative,Hungry,Happy</td>\n",
              "      <td>Earthy,Sweet,Skunk</td>\n",
              "      <td>NaN</td>\n",
              "    </tr>\n",
              "    <tr>\n",
              "      <th>856</th>\n",
              "      <td>Ghost-Bubba</td>\n",
              "      <td>hybrid</td>\n",
              "      <td>4.6</td>\n",
              "      <td>Happy,Energetic,Uplifted,Relaxed,Giggly</td>\n",
              "      <td>Sweet,Pungent,Grape</td>\n",
              "      <td>NaN</td>\n",
              "    </tr>\n",
              "    <tr>\n",
              "      <th>899</th>\n",
              "      <td>Goldwing</td>\n",
              "      <td>sativa</td>\n",
              "      <td>4.7</td>\n",
              "      <td>Uplifted,Happy,Euphoric,Creative,Energetic</td>\n",
              "      <td>NaN</td>\n",
              "      <td>NaN</td>\n",
              "    </tr>\n",
              "    <tr>\n",
              "      <th>949</th>\n",
              "      <td>Green-Hornet</td>\n",
              "      <td>hybrid</td>\n",
              "      <td>4.2</td>\n",
              "      <td>Euphoric,Uplifted,Relaxed,Giggly,Happy</td>\n",
              "      <td>Sweet,Woody,Pine</td>\n",
              "      <td>NaN</td>\n",
              "    </tr>\n",
              "    <tr>\n",
              "      <th>955</th>\n",
              "      <td>Green-Monster</td>\n",
              "      <td>hybrid</td>\n",
              "      <td>3.7</td>\n",
              "      <td>Happy,Relaxed,Uplifted,Hungry,Giggly</td>\n",
              "      <td>Earthy,Chemical,Tar</td>\n",
              "      <td>NaN</td>\n",
              "    </tr>\n",
              "    <tr>\n",
              "      <th>970</th>\n",
              "      <td>Guido-Kush</td>\n",
              "      <td>indica</td>\n",
              "      <td>4.1</td>\n",
              "      <td>Euphoric,Uplifted,Creative,Relaxed,Sleepy</td>\n",
              "      <td>NaN</td>\n",
              "      <td>NaN</td>\n",
              "    </tr>\n",
              "    <tr>\n",
              "      <th>1012</th>\n",
              "      <td>Hawaiian-Thunder-Fuck</td>\n",
              "      <td>hybrid</td>\n",
              "      <td>4.0</td>\n",
              "      <td>Uplifted,Creative,Euphoric,Energetic,Hungry</td>\n",
              "      <td>Earthy,Sweet,Citrus</td>\n",
              "      <td>NaN</td>\n",
              "    </tr>\n",
              "    <tr>\n",
              "      <th>1101</th>\n",
              "      <td>Jack-Kush</td>\n",
              "      <td>hybrid</td>\n",
              "      <td>4.1</td>\n",
              "      <td>Happy,Energetic,Giggly,Euphoric,Relaxed</td>\n",
              "      <td>Sweet,Citrus,Pungent</td>\n",
              "      <td>NaN</td>\n",
              "    </tr>\n",
              "    <tr>\n",
              "      <th>1199</th>\n",
              "      <td>Krakatoa</td>\n",
              "      <td>hybrid</td>\n",
              "      <td>4.0</td>\n",
              "      <td>Energetic,Euphoric,Sleepy,Uplifted,Happy</td>\n",
              "      <td>NaN</td>\n",
              "      <td>NaN</td>\n",
              "    </tr>\n",
              "    <tr>\n",
              "      <th>1289</th>\n",
              "      <td>Key-Lime-Haze</td>\n",
              "      <td>sativa</td>\n",
              "      <td>4.2</td>\n",
              "      <td>Happy,Uplifted,Euphoric,Energetic,Relaxed</td>\n",
              "      <td>Lime,Citrus,Sweet</td>\n",
              "      <td>NaN</td>\n",
              "    </tr>\n",
              "    <tr>\n",
              "      <th>1365</th>\n",
              "      <td>Matsu</td>\n",
              "      <td>indica</td>\n",
              "      <td>5.0</td>\n",
              "      <td>Euphoric,Tingly,Happy,Sleepy,Hungry</td>\n",
              "      <td>NaN</td>\n",
              "      <td>NaN</td>\n",
              "    </tr>\n",
              "    <tr>\n",
              "      <th>1368</th>\n",
              "      <td>Maui-Berry</td>\n",
              "      <td>hybrid</td>\n",
              "      <td>4.0</td>\n",
              "      <td>Happy,Creative,Uplifted,Hungry,Energetic</td>\n",
              "      <td>Berry,Citrus,Pungent</td>\n",
              "      <td>NaN</td>\n",
              "    </tr>\n",
              "    <tr>\n",
              "      <th>1476</th>\n",
              "      <td>Northern-Skunk</td>\n",
              "      <td>hybrid</td>\n",
              "      <td>4.5</td>\n",
              "      <td>Happy,Relaxed,Euphoric,Uplifted,Hungry</td>\n",
              "      <td>Skunk,Earthy,Pungent</td>\n",
              "      <td>NaN</td>\n",
              "    </tr>\n",
              "    <tr>\n",
              "      <th>1511</th>\n",
              "      <td>Old-Lyme-Connecticut-Og</td>\n",
              "      <td>hybrid</td>\n",
              "      <td>4.5</td>\n",
              "      <td>Energetic,Happy,Talkative,Uplifted,Euphoric</td>\n",
              "      <td>Tree,Fruit,Pungent,Pine</td>\n",
              "      <td>NaN</td>\n",
              "    </tr>\n",
              "    <tr>\n",
              "      <th>1513</th>\n",
              "      <td>Old-School-Og</td>\n",
              "      <td>hybrid</td>\n",
              "      <td>3.8</td>\n",
              "      <td>Sleepy,Relaxed,Tingly,Happy,Euphoric</td>\n",
              "      <td>Pungent,Skunk,Earthy</td>\n",
              "      <td>NaN</td>\n",
              "    </tr>\n",
              "    <tr>\n",
              "      <th>1542</th>\n",
              "      <td>Oregon-Pineapple</td>\n",
              "      <td>hybrid</td>\n",
              "      <td>4.2</td>\n",
              "      <td>Happy,Giggly,Uplifted,Relaxed,Creative</td>\n",
              "      <td>Pineapple,Sweet,Cheese</td>\n",
              "      <td>NaN</td>\n",
              "    </tr>\n",
              "    <tr>\n",
              "      <th>1544</th>\n",
              "      <td>Organic-Diesel</td>\n",
              "      <td>hybrid</td>\n",
              "      <td>4.5</td>\n",
              "      <td>Uplifted,Happy,Talkative,Energetic,Focused</td>\n",
              "      <td>Diesel,Pungent,Tobacco</td>\n",
              "      <td>NaN</td>\n",
              "    </tr>\n",
              "    <tr>\n",
              "      <th>1633</th>\n",
              "      <td>Platinum-Wreck</td>\n",
              "      <td>hybrid</td>\n",
              "      <td>4.1</td>\n",
              "      <td>Happy,Uplifted,Euphoric,Relaxed,Creative</td>\n",
              "      <td>Earthy,Pine,Sweet</td>\n",
              "      <td>NaN</td>\n",
              "    </tr>\n",
              "    <tr>\n",
              "      <th>1636</th>\n",
              "      <td>Poison-Haze</td>\n",
              "      <td>sativa</td>\n",
              "      <td>4.1</td>\n",
              "      <td>Energetic,Happy,Relaxed,Uplifted,Giggly</td>\n",
              "      <td>Citrus,Orange,Spicy/Herbal</td>\n",
              "      <td>NaN</td>\n",
              "    </tr>\n",
              "    <tr>\n",
              "      <th>1660</th>\n",
              "      <td>Pure-Og</td>\n",
              "      <td>indica</td>\n",
              "      <td>4.1</td>\n",
              "      <td>Happy,Tingly,Uplifted,Creative,Relaxed</td>\n",
              "      <td>Earthy,Pine,Flowery</td>\n",
              "      <td>NaN</td>\n",
              "    </tr>\n",
              "    <tr>\n",
              "      <th>1686</th>\n",
              "      <td>Purple-Elephant</td>\n",
              "      <td>indica</td>\n",
              "      <td>4.2</td>\n",
              "      <td>Relaxed,Sleepy,Giggly,Happy,Euphoric</td>\n",
              "      <td>Grape,Earthy,Woody</td>\n",
              "      <td>NaN</td>\n",
              "    </tr>\n",
              "    <tr>\n",
              "      <th>1726</th>\n",
              "      <td>Purple-Tonic</td>\n",
              "      <td>indica</td>\n",
              "      <td>3.2</td>\n",
              "      <td>Happy,Uplifted,Energetic,Euphoric,Sleepy</td>\n",
              "      <td>Blueberry,Nutty,Tree,Fruit</td>\n",
              "      <td>NaN</td>\n",
              "    </tr>\n",
              "    <tr>\n",
              "      <th>1801</th>\n",
              "      <td>Root-Beer-Kush</td>\n",
              "      <td>sativa</td>\n",
              "      <td>3.8</td>\n",
              "      <td>Relaxed,Uplifted,Energetic,Giggly,Creative</td>\n",
              "      <td>Sweet,Vanilla,Pungent</td>\n",
              "      <td>NaN</td>\n",
              "    </tr>\n",
              "    <tr>\n",
              "      <th>1860</th>\n",
              "      <td>Sierra-Mist</td>\n",
              "      <td>hybrid</td>\n",
              "      <td>4.7</td>\n",
              "      <td>Euphoric,Happy,Relaxed,Creative,Giggly</td>\n",
              "      <td>Citrus,Sweet,Diesel</td>\n",
              "      <td>NaN</td>\n",
              "    </tr>\n",
              "    <tr>\n",
              "      <th>1993</th>\n",
              "      <td>Starry-Night</td>\n",
              "      <td>hybrid</td>\n",
              "      <td>4.6</td>\n",
              "      <td>Euphoric,Happy,Focused,Tingly,Energetic</td>\n",
              "      <td>Berry,Earthy,Pungent</td>\n",
              "      <td>NaN</td>\n",
              "    </tr>\n",
              "    <tr>\n",
              "      <th>2101</th>\n",
              "      <td>Taliban-Poison</td>\n",
              "      <td>indica</td>\n",
              "      <td>3.7</td>\n",
              "      <td>Hungry,Aroused,Sleepy,Giggly,Happy</td>\n",
              "      <td>Diesel,Skunk,Pine</td>\n",
              "      <td>NaN</td>\n",
              "    </tr>\n",
              "    <tr>\n",
              "      <th>2195</th>\n",
              "      <td>Tropical-Tang</td>\n",
              "      <td>hybrid</td>\n",
              "      <td>4.5</td>\n",
              "      <td>Happy,Focused,Relaxed,Euphoric,Creative</td>\n",
              "      <td>Citrus,Apricot,Skunk</td>\n",
              "      <td>NaN</td>\n",
              "    </tr>\n",
              "    <tr>\n",
              "      <th>2321</th>\n",
              "      <td>Wonderwoman-Og</td>\n",
              "      <td>indica</td>\n",
              "      <td>4.0</td>\n",
              "      <td>Relaxed,Tingly,Euphoric,Aroused,Happy</td>\n",
              "      <td>Flowery,Menthol,Citrus</td>\n",
              "      <td>NaN</td>\n",
              "    </tr>\n",
              "  </tbody>\n",
              "</table>\n",
              "</div>"
            ],
            "text/plain": [
              "                       Strain    Type  ...                      Flavor Description\n",
              "163              Banana-Candy  indica  ...     Tree,Fruit,Earthy,Sweet         NaN\n",
              "368               Boysenberry  hybrid  ...          Berry,Sweet,Earthy         NaN\n",
              "594               Crater-Lake  hybrid  ...         Citrus,Pine,Pungent         NaN\n",
              "679                    Domino  indica  ...                         NaN         NaN\n",
              "736                Earthquake  hybrid  ...           Woody,Pine,Earthy         NaN\n",
              "817                    Frosty  indica  ...          Earthy,Sweet,Skunk         NaN\n",
              "856               Ghost-Bubba  hybrid  ...         Sweet,Pungent,Grape         NaN\n",
              "899                  Goldwing  sativa  ...                         NaN         NaN\n",
              "949              Green-Hornet  hybrid  ...            Sweet,Woody,Pine         NaN\n",
              "955             Green-Monster  hybrid  ...         Earthy,Chemical,Tar         NaN\n",
              "970                Guido-Kush  indica  ...                         NaN         NaN\n",
              "1012    Hawaiian-Thunder-Fuck  hybrid  ...         Earthy,Sweet,Citrus         NaN\n",
              "1101                Jack-Kush  hybrid  ...        Sweet,Citrus,Pungent         NaN\n",
              "1199                 Krakatoa  hybrid  ...                         NaN         NaN\n",
              "1289            Key-Lime-Haze  sativa  ...           Lime,Citrus,Sweet         NaN\n",
              "1365                    Matsu  indica  ...                         NaN         NaN\n",
              "1368               Maui-Berry  hybrid  ...        Berry,Citrus,Pungent         NaN\n",
              "1476           Northern-Skunk  hybrid  ...        Skunk,Earthy,Pungent         NaN\n",
              "1511  Old-Lyme-Connecticut-Og  hybrid  ...     Tree,Fruit,Pungent,Pine         NaN\n",
              "1513            Old-School-Og  hybrid  ...        Pungent,Skunk,Earthy         NaN\n",
              "1542         Oregon-Pineapple  hybrid  ...      Pineapple,Sweet,Cheese         NaN\n",
              "1544           Organic-Diesel  hybrid  ...      Diesel,Pungent,Tobacco         NaN\n",
              "1633           Platinum-Wreck  hybrid  ...           Earthy,Pine,Sweet         NaN\n",
              "1636              Poison-Haze  sativa  ...  Citrus,Orange,Spicy/Herbal         NaN\n",
              "1660                  Pure-Og  indica  ...         Earthy,Pine,Flowery         NaN\n",
              "1686          Purple-Elephant  indica  ...          Grape,Earthy,Woody         NaN\n",
              "1726             Purple-Tonic  indica  ...  Blueberry,Nutty,Tree,Fruit         NaN\n",
              "1801           Root-Beer-Kush  sativa  ...       Sweet,Vanilla,Pungent         NaN\n",
              "1860              Sierra-Mist  hybrid  ...         Citrus,Sweet,Diesel         NaN\n",
              "1993             Starry-Night  hybrid  ...        Berry,Earthy,Pungent         NaN\n",
              "2101           Taliban-Poison  indica  ...           Diesel,Skunk,Pine         NaN\n",
              "2195            Tropical-Tang  hybrid  ...        Citrus,Apricot,Skunk         NaN\n",
              "2321           Wonderwoman-Og  indica  ...      Flowery,Menthol,Citrus         NaN\n",
              "\n",
              "[33 rows x 6 columns]"
            ]
          },
          "metadata": {
            "tags": []
          },
          "execution_count": 10
        }
      ]
    },
    {
      "cell_type": "code",
      "metadata": {
        "id": "TIWQgR4aoHrC"
      },
      "source": [
        "df = df.dropna()"
      ],
      "execution_count": 11,
      "outputs": []
    },
    {
      "cell_type": "code",
      "metadata": {
        "id": "eHsl6b0bpIVi",
        "outputId": "5b7caad2-6f0d-40f7-ed95-926d4d015886",
        "colab": {
          "base_uri": "https://localhost:8080/"
        }
      },
      "source": [
        "df.shape"
      ],
      "execution_count": 12,
      "outputs": [
        {
          "output_type": "execute_result",
          "data": {
            "text/plain": [
              "(2277, 6)"
            ]
          },
          "metadata": {
            "tags": []
          },
          "execution_count": 12
        }
      ]
    },
    {
      "cell_type": "code",
      "metadata": {
        "id": "SpL7FPSupKbe",
        "outputId": "a50193e1-fd40-4a7a-c544-9c39994b36c1",
        "colab": {
          "base_uri": "https://localhost:8080/"
        }
      },
      "source": [
        "df[df['Effects']=='None'].value_counts()"
      ],
      "execution_count": 13,
      "outputs": [
        {
          "output_type": "execute_result",
          "data": {
            "text/plain": [
              "Strain                Type    Rating  Effects  Flavor  Description                                                                                                                                                                                                                                                                                                                                                                                                                                                                                                                                                                                                                                                                                     \n",
              "White-Ryder           hybrid  0.0     None     None    White Ryder is Riot Seeds’ attempt to create a ruderalis version of White Widow by crossing Buddha Seeds’ White Dwarf against Lowryder. By blending two stout, autoflowering plants, Riot Seeds created a potent indica-dominant hybrid that finishes in under 80 days and can easily be hidden from view. Enjoy this flower for anti-anxiety and sleep-inducing effects.                                                                                                                                                                                                                                                                                                                           1\n",
              "Erdpurt               indica  0.0     None     None    ErdPurt is another indica-dominant strain from Ace Seeds with more than just a weird name. It is a cross between Erdbeer and Purpuera Ticinensis, two sativa-leaning strains hailing from Switzerland. This strain offers strong physical relaxation while stimulating creativity. The terpene profile is loud with hashy spice and notes of strawberry, blackberry, and coffee. ErdPurt’s unique genetics have their own unique history. Erdbeer has existed in clone form since the mid-90s while Purpuera Ticinensis was developed on Canton Ticino over eight years at roughly 1300 meters above sea level. The history of this strain is almost as robust as its heady, long-lasting high.     1\n",
              "Chocoholic            hybrid  0.0     None     None    Chocoholic by Mighty Irish Seeds is a flavorful hybrid with rich colors. This strain is a cross of Chocolope SkunkBerry and DaluxBerry, and carries an earthy, sweet aroma that stinks of a Dutch coffee shop. The effects creep up on the body, weighing the consumer down with continued consumption. Chocoholic develops into a medium-sized plant with an average yield and above-average potency.                                                                                                                                                                                                                                                                                              1\n",
              "Chocolate-Meringue    indica  0.0     None     None    Chocolate Meringue is another sweet offering by THClones. Created by crossing Lemon Tree with Chocolate Kush, Chocolate Meringue imbues consumers with a talkative, euphoric buzz known to elevate the mood and reduce stress. This blissful strain’s terpene profile is thick with honey, pine, cacao, and Meyer Lemon, making it especially sweet and zestful on the taste buds. This bulky, stress-melting indica is a great complement to social events and dinner plans.                                                                                                                                                                                                                       1\n",
              "Chocolate-Tonic       hybrid  0.0     None     None    Chocolate Tonic by Purple Caper Seeds is a 1:1 CBD/THC strain that has helped many medical cannabis patients throughout the West Coast. Created by crossing Chocolate Kush and Cannatonic, Chocolate Tonic harnesses the best parts of both strains and offers soothing relief for inflammation, anxiety, and nausea alongside an enjoyable buzz. Chocolate Tonic has a distinct pine and cocoa aroma while being a bit more herbaceous than sweet on the palate.                                                                                                                                                                                                                                   1\n",
              "                                                                                                                                                                                                                                                                                                                                                                                                                                                                                                                                                                                                                                                                                                                                                          ..\n",
              "Pestilence            indica  0.0     None     None    Pestilence, named for one of the Four Horseman of the Apocalypse, is a rare indica-dominant strain with strong OG undertones. Coffee and caramel fill the air when this strain is combusted, but a touch of pungent earth lingers on the exhale to round out this Abusive OG and West Coast Dawg cross. This strain delivers strong appetite stimulation and traditional semi-sedative OG effects, making it an ideal ‘end of the day’ variety that can help treat eating disorders, stress, and general restlessness.                                                                                                                                                                              1\n",
              "Pia-Collision         sativa  0.0     None     None    Not much is known about MTG Seed’s Piña Collision other than its genetic background of Jamaican Pineapple and Blue Nebula. This sativa-dominant strain expresses a sweet, citrus-forward scent that is a tart mixture of orange and pineapple. Piña Collision has an average flowering time of 9-10 weeks and generates a solid yield for attentive growers. Utilize Piña Collision to stimulate the body while elevating mood.                                                                                                                                                                                                                                                                     1\n",
              "Pineapple-Calyx       hybrid  0.0     None     None    Pineapple Calyx from Calyx Garden is a hybrid cross of OG and Cookies genetics, specifically Pineapple OG and Pineapple Cookies, a Calyx Garden original. Naturally this strain is tropical on the nose with underlying notes of sour citrus and earth. It reaches almost 2% in terpene testing, over half of which is myrcene, a terpene known for its mellowing effects and herbaceous aroma. Enjoy Pineapple Calyx to help nullify stress and combat depression. This strain’s euphoric buzz and overall mood elevation make it a solid choice for social situations and long days of activity.                                                                                                  1\n",
              "Proper-Pho-Shatter-H  hybrid  0.0     None     None    None                                                                                                                                                                                                                                                                                                                                                                                                                                                                                                                                                                                                                                                                                                1\n",
              "3-Bears-Og            indica  0.0     None     None    3 Bears OG by Mephisto Genetics is an autoflowering cross of Bear OG, Karma’s OG Cut, and Triangle Kush. This indica-dominant strain generates pungent, flavorful buds in a smaller, more manageable plant size. Mephisto Genetics describes 3 Bears OG as a cornerstone to their artisanal collection, blending the best attributes of the fabled OG Kush with a compact, controllable growth structure. The 3 Bears OG has an approximate 70-day growth cycle and offers effects that stimulate the appetite while leading the body toward sleep.                                                                                                                                                 1\n",
              "Length: 77, dtype: int64"
            ]
          },
          "metadata": {
            "tags": []
          },
          "execution_count": 13
        }
      ]
    },
    {
      "cell_type": "code",
      "metadata": {
        "id": "NjDmB3cXpRJR"
      },
      "source": [
        "df = df[df.Effects != 'None']"
      ],
      "execution_count": 14,
      "outputs": []
    },
    {
      "cell_type": "code",
      "metadata": {
        "id": "aRa1Tb13psVC",
        "outputId": "7331ffd1-ca2d-450f-fe13-b274e1f68774",
        "colab": {
          "base_uri": "https://localhost:8080/"
        }
      },
      "source": [
        "df.shape"
      ],
      "execution_count": 15,
      "outputs": [
        {
          "output_type": "execute_result",
          "data": {
            "text/plain": [
              "(2200, 6)"
            ]
          },
          "metadata": {
            "tags": []
          },
          "execution_count": 15
        }
      ]
    },
    {
      "cell_type": "markdown",
      "metadata": {
        "id": "amyUA-6xvQyG"
      },
      "source": [
        "# Natural Language Processing"
      ]
    },
    {
      "cell_type": "code",
      "metadata": {
        "id": "JrEvWskrOtkd",
        "outputId": "bce9192e-d378-4967-aa0e-aaf9bc8a8c54",
        "colab": {
          "base_uri": "https://localhost:8080/"
        }
      },
      "source": [
        "# Instantiate Tokenizer\n",
        "tokenizer = Tokenizer(nlp.vocab)\n",
        "\n",
        "# Create description tokens\n",
        "tokens = []\n",
        "\n",
        "for doc in tokenizer.pipe(df['Description'], batch_size=500):\n",
        "    doc_tokens = [token.text for token in doc]\n",
        "    tokens.append(doc_tokens)\n",
        "\n",
        "df['Description_Tokens'] = tokens\n",
        "print(df['Description_Tokens'].head())"
      ],
      "execution_count": 16,
      "outputs": [
        {
          "output_type": "stream",
          "text": [
            "0    [$100, OG, is, a, 50/50, hybrid, strain, that,...\n",
            "1    [The, ‘98, Aloha, White, Widow, is, an, especi...\n",
            "2    [1024, is, a, sativa-dominant, hybrid, bred, i...\n",
            "3    [13, Dawgs, is, a, hybrid, of, G13, and, Chemd...\n",
            "4    [Also, known, as, Kosher, Tangie,, 24k, Gold, ...\n",
            "Name: Description_Tokens, dtype: object\n"
          ],
          "name": "stdout"
        }
      ]
    },
    {
      "cell_type": "code",
      "metadata": {
        "id": "La1o69t_RM_3"
      },
      "source": [
        "def count(docs):\n",
        "\n",
        "        word_counts = Counter()\n",
        "        appears_in = Counter()\n",
        "        \n",
        "        total_docs = len(docs)\n",
        "\n",
        "        for doc in docs:\n",
        "            word_counts.update(doc)\n",
        "            appears_in.update(set(doc))\n",
        "\n",
        "        temp = zip(word_counts.keys(), word_counts.values())\n",
        "        \n",
        "        wc = pd.DataFrame(temp, columns = ['word', 'count'])\n",
        "\n",
        "        wc['rank'] = wc['count'].rank(method='first', ascending=False)\n",
        "        total = wc['count'].sum()\n",
        "\n",
        "        wc['pct_total'] = wc['count'].apply(lambda x: x / total)\n",
        "        \n",
        "        wc = wc.sort_values(by='rank')\n",
        "        wc['cul_pct_total'] = wc['pct_total'].cumsum()\n",
        "\n",
        "        t2 = zip(appears_in.keys(), appears_in.values())\n",
        "        ac = pd.DataFrame(t2, columns=['word', 'appears_in'])\n",
        "        wc = ac.merge(wc, on='word')\n",
        "\n",
        "        wc['appears_in_pct'] = wc['appears_in'].apply(lambda x: x / total_docs)\n",
        "        \n",
        "        return wc.sort_values(by='rank')"
      ],
      "execution_count": 17,
      "outputs": []
    },
    {
      "cell_type": "code",
      "metadata": {
        "id": "Ue5YPgT2QAdw",
        "outputId": "53ac7839-b80d-4dad-8f56-e3b4936cbfba",
        "colab": {
          "base_uri": "https://localhost:8080/",
          "height": 204
        }
      },
      "source": [
        "wc = count(df['Description_Tokens'])\n",
        "wc.head()"
      ],
      "execution_count": 18,
      "outputs": [
        {
          "output_type": "execute_result",
          "data": {
            "text/html": [
              "<div>\n",
              "<style scoped>\n",
              "    .dataframe tbody tr th:only-of-type {\n",
              "        vertical-align: middle;\n",
              "    }\n",
              "\n",
              "    .dataframe tbody tr th {\n",
              "        vertical-align: top;\n",
              "    }\n",
              "\n",
              "    .dataframe thead th {\n",
              "        text-align: right;\n",
              "    }\n",
              "</style>\n",
              "<table border=\"1\" class=\"dataframe\">\n",
              "  <thead>\n",
              "    <tr style=\"text-align: right;\">\n",
              "      <th></th>\n",
              "      <th>word</th>\n",
              "      <th>appears_in</th>\n",
              "      <th>count</th>\n",
              "      <th>rank</th>\n",
              "      <th>pct_total</th>\n",
              "      <th>cul_pct_total</th>\n",
              "      <th>appears_in_pct</th>\n",
              "    </tr>\n",
              "  </thead>\n",
              "  <tbody>\n",
              "    <tr>\n",
              "      <th>27</th>\n",
              "      <td>and</td>\n",
              "      <td>2120</td>\n",
              "      <td>6929</td>\n",
              "      <td>1.0</td>\n",
              "      <td>0.041915</td>\n",
              "      <td>0.041915</td>\n",
              "      <td>0.963636</td>\n",
              "    </tr>\n",
              "    <tr>\n",
              "      <th>39</th>\n",
              "      <td>a</td>\n",
              "      <td>2080</td>\n",
              "      <td>5836</td>\n",
              "      <td>2.0</td>\n",
              "      <td>0.035303</td>\n",
              "      <td>0.077218</td>\n",
              "      <td>0.945455</td>\n",
              "    </tr>\n",
              "    <tr>\n",
              "      <th>14</th>\n",
              "      <td>the</td>\n",
              "      <td>1794</td>\n",
              "      <td>4554</td>\n",
              "      <td>3.0</td>\n",
              "      <td>0.027548</td>\n",
              "      <td>0.104766</td>\n",
              "      <td>0.815455</td>\n",
              "    </tr>\n",
              "    <tr>\n",
              "      <th>34</th>\n",
              "      <td>of</td>\n",
              "      <td>1870</td>\n",
              "      <td>4345</td>\n",
              "      <td>4.0</td>\n",
              "      <td>0.026284</td>\n",
              "      <td>0.131049</td>\n",
              "      <td>0.850000</td>\n",
              "    </tr>\n",
              "    <tr>\n",
              "      <th>46</th>\n",
              "      <td>is</td>\n",
              "      <td>2024</td>\n",
              "      <td>3631</td>\n",
              "      <td>5.0</td>\n",
              "      <td>0.021965</td>\n",
              "      <td>0.153014</td>\n",
              "      <td>0.920000</td>\n",
              "    </tr>\n",
              "  </tbody>\n",
              "</table>\n",
              "</div>"
            ],
            "text/plain": [
              "   word  appears_in  count  rank  pct_total  cul_pct_total  appears_in_pct\n",
              "27  and        2120   6929   1.0   0.041915       0.041915        0.963636\n",
              "39    a        2080   5836   2.0   0.035303       0.077218        0.945455\n",
              "14  the        1794   4554   3.0   0.027548       0.104766        0.815455\n",
              "34   of        1870   4345   4.0   0.026284       0.131049        0.850000\n",
              "46   is        2024   3631   5.0   0.021965       0.153014        0.920000"
            ]
          },
          "metadata": {
            "tags": []
          },
          "execution_count": 18
        }
      ]
    },
    {
      "cell_type": "code",
      "metadata": {
        "id": "4x3p8IWISYNA",
        "outputId": "96ab91ca-e69c-4420-d439-089842d880bb",
        "colab": {
          "base_uri": "https://localhost:8080/"
        }
      },
      "source": [
        "tokens = []\n",
        "\n",
        "\"\"\" Update those tokens w/o stopwords\"\"\"\n",
        "for doc in nlp.pipe(df['Description'], batch_size=500):\n",
        "    \n",
        "    doc_tokens = []\n",
        "    \n",
        "    for token in doc:\n",
        "        if (token.is_stop == False) & (token.is_punct == False) & (token.text is not '   '):\n",
        "            doc_tokens.append(token.lemma_.lower())\n",
        "\n",
        "    tokens.append(doc_tokens)\n",
        "\n",
        "df['Description_Tokens'] = tokens\n",
        "df['Description_Tokens']"
      ],
      "execution_count": 19,
      "outputs": [
        {
          "output_type": "execute_result",
          "data": {
            "text/plain": [
              "0       [$, 100, og, 50/50, hybrid, strain, pack, stro...\n",
              "1       [98, aloha, white, widow, especially, potent, ...\n",
              "2       [1024, sativa, dominant, hybrid, breed, spain,...\n",
              "3       [13, dawgs, hybrid, g13, chemdawg, genetic, br...\n",
              "4       [know, kosher, tangie, 24k, gold, 60, indica, ...\n",
              "                              ...                        \n",
              "2346    [zeus, og,   , hybrid, cross, pineapple, og, d...\n",
              "2347    [zkittlez, indica, dominant, mix, grape, ape, ...\n",
              "2348    [zombie, kush, ripper, seeds, come, different,...\n",
              "2349    [look, transform, flesh, eat, monster, zombie,...\n",
              "2350    [zoom, pie, know, zombie, pie, heavy, indica, ...\n",
              "Name: Description_Tokens, Length: 2200, dtype: object"
            ]
          },
          "metadata": {
            "tags": []
          },
          "execution_count": 19
        }
      ]
    },
    {
      "cell_type": "code",
      "metadata": {
        "id": "-FAcCb6hUeHF",
        "outputId": "30892e66-a076-44cb-cb66-9d35c2e210c3",
        "colab": {
          "base_uri": "https://localhost:8080/",
          "height": 248
        }
      },
      "source": [
        "wc = count(df['Description_Tokens'])\n",
        "\n",
        "wc_top20 = wc[wc['rank'] <= 20]\n",
        "\n",
        "squarify.plot(sizes=wc_top20['pct_total'], label=wc_top20['word'], alpha=.8)\n",
        "plt.axis('off')\n",
        "plt.show()"
      ],
      "execution_count": 20,
      "outputs": [
        {
          "output_type": "display_data",
          "data": {
            "image/png": "[encoded data removed]",
            "text/plain": [
              "<Figure size 432x288 with 1 Axes>"
            ]
          },
          "metadata": {
            "tags": [],
            "needs_background": "light"
          }
        }
      ]
    },
    {
      "cell_type": "code",
      "metadata": {
        "id": "1BlaysqWVsy9",
        "outputId": "1cc1708e-20a1-40ff-ec5d-8cf4bad6ebbe",
        "colab": {
          "base_uri": "https://localhost:8080/"
        }
      },
      "source": [
        "wc_top20['word']"
      ],
      "execution_count": 21,
      "outputs": [
        {
          "output_type": "execute_result",
          "data": {
            "text/plain": [
              "25       strain\n",
              "48             \n",
              "15       effect\n",
              "30       indica\n",
              "7        hybrid\n",
              "16       sativa\n",
              "230       cross\n",
              "161        kush\n",
              "31           og\n",
              "175       aroma\n",
              "120    dominant\n",
              "124       sweet\n",
              "22          bud\n",
              "93       flavor\n",
              "33         body\n",
              "6          high\n",
              "152      flower\n",
              "265      purple\n",
              "23         pain\n",
              "118       breed\n",
              "Name: word, dtype: object"
            ]
          },
          "metadata": {
            "tags": []
          },
          "execution_count": 21
        }
      ]
    },
    {
      "cell_type": "code",
      "metadata": {
        "id": "iMJ8u7XpcE2X",
        "outputId": "d4998bab-0f57-4abf-ae9f-8538b56900de",
        "colab": {
          "base_uri": "https://localhost:8080/",
          "height": 270
        }
      },
      "source": [
        "# Instantiate vectorizer\n",
        "tfidf = TfidfVectorizer(stop_words = 'english',\n",
        "                       #ngram_range = (1,2),\n",
        "                       max_features = 5000)\n",
        "\n",
        "# Create a vocabulary and tf-idf score per document\n",
        "dtm = tfidf.fit_transform(df['Description'])\n",
        "                         \n",
        "# Get feature names to use as dataframe column headers\n",
        "dtm = pd.DataFrame(dtm.todense(), columns=tfidf.get_feature_names())\n",
        "nn = NearestNeighbors(n_neighbors=4, algorithm='kd_tree')\n",
        "nn.fit(dtm)\n",
        "\n",
        "# View Feature Matrix as DataFrame\n",
        "print(dtm.shape)\n",
        "dtm.head()"
      ],
      "execution_count": 22,
      "outputs": [
        {
          "output_type": "stream",
          "text": [
            "(2200, 5000)\n"
          ],
          "name": "stdout"
        },
        {
          "output_type": "execute_result",
          "data": {
            "text/html": [
              "<div>\n",
              "<style scoped>\n",
              "    .dataframe tbody tr th:only-of-type {\n",
              "        vertical-align: middle;\n",
              "    }\n",
              "\n",
              "    .dataframe tbody tr th {\n",
              "        vertical-align: top;\n",
              "    }\n",
              "\n",
              "    .dataframe thead th {\n",
              "        text-align: right;\n",
              "    }\n",
              "</style>\n",
              "<table border=\"1\" class=\"dataframe\">\n",
              "  <thead>\n",
              "    <tr style=\"text-align: right;\">\n",
              "      <th></th>\n",
              "      <th>09</th>\n",
              "      <th>10</th>\n",
              "      <th>100</th>\n",
              "      <th>1024</th>\n",
              "      <th>11</th>\n",
              "      <th>12</th>\n",
              "      <th>13</th>\n",
              "      <th>14</th>\n",
              "      <th>15</th>\n",
              "      <th>16</th>\n",
              "      <th>17</th>\n",
              "      <th>18</th>\n",
              "      <th>19</th>\n",
              "      <th>1957</th>\n",
              "      <th>1960s</th>\n",
              "      <th>1970s</th>\n",
              "      <th>1980</th>\n",
              "      <th>1980s</th>\n",
              "      <th>1989</th>\n",
              "      <th>1990s</th>\n",
              "      <th>1991</th>\n",
              "      <th>1994</th>\n",
              "      <th>1996</th>\n",
              "      <th>1997</th>\n",
              "      <th>1998</th>\n",
              "      <th>1999</th>\n",
              "      <th>1st</th>\n",
              "      <th>20</th>\n",
              "      <th>2000</th>\n",
              "      <th>2000s</th>\n",
              "      <th>2001</th>\n",
              "      <th>2002</th>\n",
              "      <th>2003</th>\n",
              "      <th>2004</th>\n",
              "      <th>2005</th>\n",
              "      <th>2006</th>\n",
              "      <th>2007</th>\n",
              "      <th>2008</th>\n",
              "      <th>2009</th>\n",
              "      <th>2010</th>\n",
              "      <th>...</th>\n",
              "      <th>wrapping</th>\n",
              "      <th>wreathed</th>\n",
              "      <th>wreck</th>\n",
              "      <th>wreckage</th>\n",
              "      <th>wrench</th>\n",
              "      <th>wsu</th>\n",
              "      <th>wtf</th>\n",
              "      <th>x18</th>\n",
              "      <th>xanadu</th>\n",
              "      <th>xiii</th>\n",
              "      <th>xj</th>\n",
              "      <th>xxx</th>\n",
              "      <th>year</th>\n",
              "      <th>years</th>\n",
              "      <th>yellow</th>\n",
              "      <th>yeti</th>\n",
              "      <th>yield</th>\n",
              "      <th>yielder</th>\n",
              "      <th>yielders</th>\n",
              "      <th>yielding</th>\n",
              "      <th>yields</th>\n",
              "      <th>yoda</th>\n",
              "      <th>york</th>\n",
              "      <th>yum</th>\n",
              "      <th>yumboldt</th>\n",
              "      <th>yummy</th>\n",
              "      <th>yunnan</th>\n",
              "      <th>zacatecas</th>\n",
              "      <th>zamaldelica</th>\n",
              "      <th>zealand</th>\n",
              "      <th>zelly</th>\n",
              "      <th>zen</th>\n",
              "      <th>zest</th>\n",
              "      <th>zestful</th>\n",
              "      <th>zesty</th>\n",
              "      <th>zeta</th>\n",
              "      <th>zion</th>\n",
              "      <th>zkittlez</th>\n",
              "      <th>zombie</th>\n",
              "      <th>zone</th>\n",
              "    </tr>\n",
              "  </thead>\n",
              "  <tbody>\n",
              "    <tr>\n",
              "      <th>0</th>\n",
              "      <td>0.0</td>\n",
              "      <td>0.0</td>\n",
              "      <td>0.422097</td>\n",
              "      <td>0.000000</td>\n",
              "      <td>0.0</td>\n",
              "      <td>0.0</td>\n",
              "      <td>0.000000</td>\n",
              "      <td>0.0</td>\n",
              "      <td>0.0</td>\n",
              "      <td>0.0</td>\n",
              "      <td>0.0</td>\n",
              "      <td>0.00000</td>\n",
              "      <td>0.0</td>\n",
              "      <td>0.0</td>\n",
              "      <td>0.0</td>\n",
              "      <td>0.0</td>\n",
              "      <td>0.0</td>\n",
              "      <td>0.0</td>\n",
              "      <td>0.0</td>\n",
              "      <td>0.0</td>\n",
              "      <td>0.0</td>\n",
              "      <td>0.0</td>\n",
              "      <td>0.0</td>\n",
              "      <td>0.0</td>\n",
              "      <td>0.0</td>\n",
              "      <td>0.0</td>\n",
              "      <td>0.000000</td>\n",
              "      <td>0.0</td>\n",
              "      <td>0.0</td>\n",
              "      <td>0.0</td>\n",
              "      <td>0.0</td>\n",
              "      <td>0.0</td>\n",
              "      <td>0.0</td>\n",
              "      <td>0.0</td>\n",
              "      <td>0.0</td>\n",
              "      <td>0.0</td>\n",
              "      <td>0.0</td>\n",
              "      <td>0.0</td>\n",
              "      <td>0.0</td>\n",
              "      <td>0.0</td>\n",
              "      <td>...</td>\n",
              "      <td>0.0</td>\n",
              "      <td>0.0</td>\n",
              "      <td>0.0</td>\n",
              "      <td>0.0</td>\n",
              "      <td>0.0</td>\n",
              "      <td>0.0</td>\n",
              "      <td>0.0</td>\n",
              "      <td>0.0</td>\n",
              "      <td>0.0</td>\n",
              "      <td>0.0</td>\n",
              "      <td>0.0</td>\n",
              "      <td>0.0</td>\n",
              "      <td>0.0</td>\n",
              "      <td>0.0</td>\n",
              "      <td>0.0</td>\n",
              "      <td>0.0</td>\n",
              "      <td>0.0</td>\n",
              "      <td>0.0</td>\n",
              "      <td>0.0</td>\n",
              "      <td>0.0</td>\n",
              "      <td>0.0</td>\n",
              "      <td>0.0</td>\n",
              "      <td>0.0</td>\n",
              "      <td>0.0</td>\n",
              "      <td>0.0</td>\n",
              "      <td>0.0</td>\n",
              "      <td>0.0</td>\n",
              "      <td>0.0</td>\n",
              "      <td>0.0</td>\n",
              "      <td>0.0</td>\n",
              "      <td>0.0</td>\n",
              "      <td>0.0</td>\n",
              "      <td>0.0</td>\n",
              "      <td>0.0</td>\n",
              "      <td>0.0</td>\n",
              "      <td>0.0</td>\n",
              "      <td>0.0</td>\n",
              "      <td>0.0</td>\n",
              "      <td>0.0</td>\n",
              "      <td>0.0</td>\n",
              "    </tr>\n",
              "    <tr>\n",
              "      <th>1</th>\n",
              "      <td>0.0</td>\n",
              "      <td>0.0</td>\n",
              "      <td>0.000000</td>\n",
              "      <td>0.000000</td>\n",
              "      <td>0.0</td>\n",
              "      <td>0.0</td>\n",
              "      <td>0.000000</td>\n",
              "      <td>0.0</td>\n",
              "      <td>0.0</td>\n",
              "      <td>0.0</td>\n",
              "      <td>0.0</td>\n",
              "      <td>0.00000</td>\n",
              "      <td>0.0</td>\n",
              "      <td>0.0</td>\n",
              "      <td>0.0</td>\n",
              "      <td>0.0</td>\n",
              "      <td>0.0</td>\n",
              "      <td>0.0</td>\n",
              "      <td>0.0</td>\n",
              "      <td>0.0</td>\n",
              "      <td>0.0</td>\n",
              "      <td>0.0</td>\n",
              "      <td>0.0</td>\n",
              "      <td>0.0</td>\n",
              "      <td>0.0</td>\n",
              "      <td>0.0</td>\n",
              "      <td>0.103242</td>\n",
              "      <td>0.0</td>\n",
              "      <td>0.0</td>\n",
              "      <td>0.0</td>\n",
              "      <td>0.0</td>\n",
              "      <td>0.0</td>\n",
              "      <td>0.0</td>\n",
              "      <td>0.0</td>\n",
              "      <td>0.0</td>\n",
              "      <td>0.0</td>\n",
              "      <td>0.0</td>\n",
              "      <td>0.0</td>\n",
              "      <td>0.0</td>\n",
              "      <td>0.0</td>\n",
              "      <td>...</td>\n",
              "      <td>0.0</td>\n",
              "      <td>0.0</td>\n",
              "      <td>0.0</td>\n",
              "      <td>0.0</td>\n",
              "      <td>0.0</td>\n",
              "      <td>0.0</td>\n",
              "      <td>0.0</td>\n",
              "      <td>0.0</td>\n",
              "      <td>0.0</td>\n",
              "      <td>0.0</td>\n",
              "      <td>0.0</td>\n",
              "      <td>0.0</td>\n",
              "      <td>0.0</td>\n",
              "      <td>0.0</td>\n",
              "      <td>0.0</td>\n",
              "      <td>0.0</td>\n",
              "      <td>0.0</td>\n",
              "      <td>0.0</td>\n",
              "      <td>0.0</td>\n",
              "      <td>0.0</td>\n",
              "      <td>0.0</td>\n",
              "      <td>0.0</td>\n",
              "      <td>0.0</td>\n",
              "      <td>0.0</td>\n",
              "      <td>0.0</td>\n",
              "      <td>0.0</td>\n",
              "      <td>0.0</td>\n",
              "      <td>0.0</td>\n",
              "      <td>0.0</td>\n",
              "      <td>0.0</td>\n",
              "      <td>0.0</td>\n",
              "      <td>0.0</td>\n",
              "      <td>0.0</td>\n",
              "      <td>0.0</td>\n",
              "      <td>0.0</td>\n",
              "      <td>0.0</td>\n",
              "      <td>0.0</td>\n",
              "      <td>0.0</td>\n",
              "      <td>0.0</td>\n",
              "      <td>0.0</td>\n",
              "    </tr>\n",
              "    <tr>\n",
              "      <th>2</th>\n",
              "      <td>0.0</td>\n",
              "      <td>0.0</td>\n",
              "      <td>0.000000</td>\n",
              "      <td>0.486317</td>\n",
              "      <td>0.0</td>\n",
              "      <td>0.0</td>\n",
              "      <td>0.000000</td>\n",
              "      <td>0.0</td>\n",
              "      <td>0.0</td>\n",
              "      <td>0.0</td>\n",
              "      <td>0.0</td>\n",
              "      <td>0.00000</td>\n",
              "      <td>0.0</td>\n",
              "      <td>0.0</td>\n",
              "      <td>0.0</td>\n",
              "      <td>0.0</td>\n",
              "      <td>0.0</td>\n",
              "      <td>0.0</td>\n",
              "      <td>0.0</td>\n",
              "      <td>0.0</td>\n",
              "      <td>0.0</td>\n",
              "      <td>0.0</td>\n",
              "      <td>0.0</td>\n",
              "      <td>0.0</td>\n",
              "      <td>0.0</td>\n",
              "      <td>0.0</td>\n",
              "      <td>0.000000</td>\n",
              "      <td>0.0</td>\n",
              "      <td>0.0</td>\n",
              "      <td>0.0</td>\n",
              "      <td>0.0</td>\n",
              "      <td>0.0</td>\n",
              "      <td>0.0</td>\n",
              "      <td>0.0</td>\n",
              "      <td>0.0</td>\n",
              "      <td>0.0</td>\n",
              "      <td>0.0</td>\n",
              "      <td>0.0</td>\n",
              "      <td>0.0</td>\n",
              "      <td>0.0</td>\n",
              "      <td>...</td>\n",
              "      <td>0.0</td>\n",
              "      <td>0.0</td>\n",
              "      <td>0.0</td>\n",
              "      <td>0.0</td>\n",
              "      <td>0.0</td>\n",
              "      <td>0.0</td>\n",
              "      <td>0.0</td>\n",
              "      <td>0.0</td>\n",
              "      <td>0.0</td>\n",
              "      <td>0.0</td>\n",
              "      <td>0.0</td>\n",
              "      <td>0.0</td>\n",
              "      <td>0.0</td>\n",
              "      <td>0.0</td>\n",
              "      <td>0.0</td>\n",
              "      <td>0.0</td>\n",
              "      <td>0.0</td>\n",
              "      <td>0.0</td>\n",
              "      <td>0.0</td>\n",
              "      <td>0.0</td>\n",
              "      <td>0.0</td>\n",
              "      <td>0.0</td>\n",
              "      <td>0.0</td>\n",
              "      <td>0.0</td>\n",
              "      <td>0.0</td>\n",
              "      <td>0.0</td>\n",
              "      <td>0.0</td>\n",
              "      <td>0.0</td>\n",
              "      <td>0.0</td>\n",
              "      <td>0.0</td>\n",
              "      <td>0.0</td>\n",
              "      <td>0.0</td>\n",
              "      <td>0.0</td>\n",
              "      <td>0.0</td>\n",
              "      <td>0.0</td>\n",
              "      <td>0.0</td>\n",
              "      <td>0.0</td>\n",
              "      <td>0.0</td>\n",
              "      <td>0.0</td>\n",
              "      <td>0.0</td>\n",
              "    </tr>\n",
              "    <tr>\n",
              "      <th>3</th>\n",
              "      <td>0.0</td>\n",
              "      <td>0.0</td>\n",
              "      <td>0.000000</td>\n",
              "      <td>0.000000</td>\n",
              "      <td>0.0</td>\n",
              "      <td>0.0</td>\n",
              "      <td>0.434774</td>\n",
              "      <td>0.0</td>\n",
              "      <td>0.0</td>\n",
              "      <td>0.0</td>\n",
              "      <td>0.0</td>\n",
              "      <td>0.00000</td>\n",
              "      <td>0.0</td>\n",
              "      <td>0.0</td>\n",
              "      <td>0.0</td>\n",
              "      <td>0.0</td>\n",
              "      <td>0.0</td>\n",
              "      <td>0.0</td>\n",
              "      <td>0.0</td>\n",
              "      <td>0.0</td>\n",
              "      <td>0.0</td>\n",
              "      <td>0.0</td>\n",
              "      <td>0.0</td>\n",
              "      <td>0.0</td>\n",
              "      <td>0.0</td>\n",
              "      <td>0.0</td>\n",
              "      <td>0.000000</td>\n",
              "      <td>0.0</td>\n",
              "      <td>0.0</td>\n",
              "      <td>0.0</td>\n",
              "      <td>0.0</td>\n",
              "      <td>0.0</td>\n",
              "      <td>0.0</td>\n",
              "      <td>0.0</td>\n",
              "      <td>0.0</td>\n",
              "      <td>0.0</td>\n",
              "      <td>0.0</td>\n",
              "      <td>0.0</td>\n",
              "      <td>0.0</td>\n",
              "      <td>0.0</td>\n",
              "      <td>...</td>\n",
              "      <td>0.0</td>\n",
              "      <td>0.0</td>\n",
              "      <td>0.0</td>\n",
              "      <td>0.0</td>\n",
              "      <td>0.0</td>\n",
              "      <td>0.0</td>\n",
              "      <td>0.0</td>\n",
              "      <td>0.0</td>\n",
              "      <td>0.0</td>\n",
              "      <td>0.0</td>\n",
              "      <td>0.0</td>\n",
              "      <td>0.0</td>\n",
              "      <td>0.0</td>\n",
              "      <td>0.0</td>\n",
              "      <td>0.0</td>\n",
              "      <td>0.0</td>\n",
              "      <td>0.0</td>\n",
              "      <td>0.0</td>\n",
              "      <td>0.0</td>\n",
              "      <td>0.0</td>\n",
              "      <td>0.0</td>\n",
              "      <td>0.0</td>\n",
              "      <td>0.0</td>\n",
              "      <td>0.0</td>\n",
              "      <td>0.0</td>\n",
              "      <td>0.0</td>\n",
              "      <td>0.0</td>\n",
              "      <td>0.0</td>\n",
              "      <td>0.0</td>\n",
              "      <td>0.0</td>\n",
              "      <td>0.0</td>\n",
              "      <td>0.0</td>\n",
              "      <td>0.0</td>\n",
              "      <td>0.0</td>\n",
              "      <td>0.0</td>\n",
              "      <td>0.0</td>\n",
              "      <td>0.0</td>\n",
              "      <td>0.0</td>\n",
              "      <td>0.0</td>\n",
              "      <td>0.0</td>\n",
              "    </tr>\n",
              "    <tr>\n",
              "      <th>4</th>\n",
              "      <td>0.0</td>\n",
              "      <td>0.0</td>\n",
              "      <td>0.000000</td>\n",
              "      <td>0.000000</td>\n",
              "      <td>0.0</td>\n",
              "      <td>0.0</td>\n",
              "      <td>0.000000</td>\n",
              "      <td>0.0</td>\n",
              "      <td>0.0</td>\n",
              "      <td>0.0</td>\n",
              "      <td>0.0</td>\n",
              "      <td>0.13741</td>\n",
              "      <td>0.0</td>\n",
              "      <td>0.0</td>\n",
              "      <td>0.0</td>\n",
              "      <td>0.0</td>\n",
              "      <td>0.0</td>\n",
              "      <td>0.0</td>\n",
              "      <td>0.0</td>\n",
              "      <td>0.0</td>\n",
              "      <td>0.0</td>\n",
              "      <td>0.0</td>\n",
              "      <td>0.0</td>\n",
              "      <td>0.0</td>\n",
              "      <td>0.0</td>\n",
              "      <td>0.0</td>\n",
              "      <td>0.000000</td>\n",
              "      <td>0.0</td>\n",
              "      <td>0.0</td>\n",
              "      <td>0.0</td>\n",
              "      <td>0.0</td>\n",
              "      <td>0.0</td>\n",
              "      <td>0.0</td>\n",
              "      <td>0.0</td>\n",
              "      <td>0.0</td>\n",
              "      <td>0.0</td>\n",
              "      <td>0.0</td>\n",
              "      <td>0.0</td>\n",
              "      <td>0.0</td>\n",
              "      <td>0.0</td>\n",
              "      <td>...</td>\n",
              "      <td>0.0</td>\n",
              "      <td>0.0</td>\n",
              "      <td>0.0</td>\n",
              "      <td>0.0</td>\n",
              "      <td>0.0</td>\n",
              "      <td>0.0</td>\n",
              "      <td>0.0</td>\n",
              "      <td>0.0</td>\n",
              "      <td>0.0</td>\n",
              "      <td>0.0</td>\n",
              "      <td>0.0</td>\n",
              "      <td>0.0</td>\n",
              "      <td>0.0</td>\n",
              "      <td>0.0</td>\n",
              "      <td>0.0</td>\n",
              "      <td>0.0</td>\n",
              "      <td>0.0</td>\n",
              "      <td>0.0</td>\n",
              "      <td>0.0</td>\n",
              "      <td>0.0</td>\n",
              "      <td>0.0</td>\n",
              "      <td>0.0</td>\n",
              "      <td>0.0</td>\n",
              "      <td>0.0</td>\n",
              "      <td>0.0</td>\n",
              "      <td>0.0</td>\n",
              "      <td>0.0</td>\n",
              "      <td>0.0</td>\n",
              "      <td>0.0</td>\n",
              "      <td>0.0</td>\n",
              "      <td>0.0</td>\n",
              "      <td>0.0</td>\n",
              "      <td>0.0</td>\n",
              "      <td>0.0</td>\n",
              "      <td>0.0</td>\n",
              "      <td>0.0</td>\n",
              "      <td>0.0</td>\n",
              "      <td>0.0</td>\n",
              "      <td>0.0</td>\n",
              "      <td>0.0</td>\n",
              "    </tr>\n",
              "  </tbody>\n",
              "</table>\n",
              "<p>5 rows × 5000 columns</p>\n",
              "</div>"
            ],
            "text/plain": [
              "    09   10       100      1024   11  ...  zeta  zion  zkittlez  zombie  zone\n",
              "0  0.0  0.0  0.422097  0.000000  0.0  ...   0.0   0.0       0.0     0.0   0.0\n",
              "1  0.0  0.0  0.000000  0.000000  0.0  ...   0.0   0.0       0.0     0.0   0.0\n",
              "2  0.0  0.0  0.000000  0.486317  0.0  ...   0.0   0.0       0.0     0.0   0.0\n",
              "3  0.0  0.0  0.000000  0.000000  0.0  ...   0.0   0.0       0.0     0.0   0.0\n",
              "4  0.0  0.0  0.000000  0.000000  0.0  ...   0.0   0.0       0.0     0.0   0.0\n",
              "\n",
              "[5 rows x 5000 columns]"
            ]
          },
          "metadata": {
            "tags": []
          },
          "execution_count": 22
        }
      ]
    },
    {
      "cell_type": "code",
      "metadata": {
        "id": "1AJuj-nLfPsx"
      },
      "source": [
        "ideal = [\"\"\"Indica,Relaxed,Pain,Stress,Ache,Sleep\"\"\"]"
      ],
      "execution_count": 23,
      "outputs": []
    },
    {
      "cell_type": "code",
      "metadata": {
        "id": "kYv-ixMZfQDF",
        "outputId": "1ae32005-63f2-4cb9-8c33-e7c6456891c1",
        "colab": {
          "base_uri": "https://localhost:8080/"
        }
      },
      "source": [
        "# Query ideal descprition\n",
        "new = tfidf.transform(ideal)\n",
        "new"
      ],
      "execution_count": 24,
      "outputs": [
        {
          "output_type": "execute_result",
          "data": {
            "text/plain": [
              "<1x5000 sparse matrix of type '<class 'numpy.float64'>'\n",
              "\twith 5 stored elements in Compressed Sparse Row format>"
            ]
          },
          "metadata": {
            "tags": []
          },
          "execution_count": 24
        }
      ]
    },
    {
      "cell_type": "code",
      "metadata": {
        "id": "m3izK8-bjALP",
        "outputId": "3841d32f-baf1-4bfb-8602-962c5b1d3227",
        "colab": {
          "base_uri": "https://localhost:8080/"
        }
      },
      "source": [
        "nn.kneighbors(new.todense())"
      ],
      "execution_count": 25,
      "outputs": [
        {
          "output_type": "execute_result",
          "data": {
            "text/plain": [
              "(array([[1.26115935, 1.28569982, 1.28801924, 1.28869852]]),\n",
              " array([[1767,  870,  727,  265]]))"
            ]
          },
          "metadata": {
            "tags": []
          },
          "execution_count": 25
        }
      ]
    },
    {
      "cell_type": "code",
      "metadata": {
        "id": "S37-DcEAjEE4",
        "outputId": "40efa910-5367-4fcd-ffce-ed4e8cad375a",
        "colab": {
          "base_uri": "https://localhost:8080/"
        }
      },
      "source": [
        "print(df['Strain'][727])\n",
        "print(df['Flavor'][727])\n",
        "print(df['Effects'][727])\n",
        "print(df['Description'][727])"
      ],
      "execution_count": 26,
      "outputs": [
        {
          "output_type": "stream",
          "text": [
            "Dutch-Treat\n",
            "Sweet,Pine,Earthy\n",
            "Relaxed,Happy,Euphoric,Uplifted,Focused\n",
            "Over the years, Dutch Treat has become an essential strain of the Amsterdam coffee shops. The dense, sticky buds have an intense smell of sweet fruits mixed with pine and eucalyptus trees. The cerebral high comes on quick and leaves consumers feeling uplifted and euphoric while reducing stress and relaxing the mind.\n"
          ],
          "name": "stdout"
        }
      ]
    },
    {
      "cell_type": "code",
      "metadata": {
        "id": "kTWQLkDIjHmb",
        "outputId": "9525be93-21b1-4218-c467-5815adaee726",
        "colab": {
          "base_uri": "https://localhost:8080/"
        }
      },
      "source": [
        "print(df['Strain'][617])\n",
        "print(df['Flavor'][617])\n",
        "print(df['Effects'][617])\n",
        "print(df['Description'][617])"
      ],
      "execution_count": 27,
      "outputs": [
        {
          "output_type": "stream",
          "text": [
            "Crown-Royale\n",
            "Sweet,Flowery,Berry\n",
            "Relaxed,Happy,Euphoric,Sleepy,Aroused\n",
            "Crown Royale is a sweet indica-dominant hybrid that blends the best of parent strains Blueberry and Purple Kush together. This flower is a feast for the eyes with bright purple hues and deep green foliage. Just as delightful on the palate, Crown Royale exhibits notes of the forest floor with piney aromas and a telltale berry tartness. These scents show up in the flavor as a sweeter, fruiter pine. Enjoy this strain for pervasive physical effects that dull pain, nausea, and stress.    \n"
          ],
          "name": "stdout"
        }
      ]
    },
    {
      "cell_type": "code",
      "metadata": {
        "id": "96zAz4u6jNqg",
        "outputId": "f28316dd-6469-4bcc-ab58-085d04b6fdca",
        "colab": {
          "base_uri": "https://localhost:8080/"
        }
      },
      "source": [
        "print(df['Strain'][2168])\n",
        "print(df['Flavor'][2168])\n",
        "print(df['Effects'][2168])\n",
        "print(df['Description'][2168])"
      ],
      "execution_count": 28,
      "outputs": [
        {
          "output_type": "stream",
          "text": [
            "Tillamook-Strawberry\n",
            "Strawberry,Sweet,Berry\n",
            "Happy,Relaxed,Focused,Euphoric,Energetic\n",
            "Tillamook Strawberry is a mash-up between Alphakronik Genes and Dark Horse Genetics for AKG’s Collaboration Series. Described by the breeder as the “diesel lover’s dream,” Tillamook Strawberry smells like a gas station in a strawberry field. The strain’s foliage is deep green with tight buds and the effects are bright yet soothing, promoting focus and relaxation. Utilize Tillamook Strawberry to improve your mood and counter depression and anxiety. \n"
          ],
          "name": "stdout"
        }
      ]
    },
    {
      "cell_type": "code",
      "metadata": {
        "id": "r0xzT54vjX3E",
        "outputId": "0d5a1c8d-7440-48ff-beed-27bfed97814c",
        "colab": {
          "base_uri": "https://localhost:8080/"
        }
      },
      "source": [
        "print(df['Strain'][1249])\n",
        "print(df['Flavor'][1249])\n",
        "print(df['Effects'][1249])\n",
        "print(df['Description'][1249])"
      ],
      "execution_count": 29,
      "outputs": [
        {
          "output_type": "stream",
          "text": [
            "Legend-Og\n",
            "Pungent,Earthy,Pine\n",
            "Relaxed,Sleepy,Happy,Creative,Focused\n",
            "Legend OG is a presumed OG Kush phenotype that offers a fresh take on a classic. Known for tart, floral, and pungent terpenes, Legend OG stays true to its Kush background. Heavily sedating in large doses, Legend OG works hard to relax the consumer by elevating the mind while soothing aches and pains throughout the body. Its sleepy qualities also make it a solid choice before bedtime, but monitor your dosage, as high-THC varieties can overstimulate some minds.\n"
          ],
          "name": "stdout"
        }
      ]
    },
    {
      "cell_type": "code",
      "metadata": {
        "id": "hCdTZ4vQAUvD"
      },
      "source": [
        "import pickle\n",
        "\n",
        "Pkl_Filename = \"nn_model.pkl\"  \n",
        "\n",
        "with open(Pkl_Filename, 'wb') as file:  \n",
        "    pickle.dump(nn, file)"
      ],
      "execution_count": 31,
      "outputs": []
    }
  ]
}